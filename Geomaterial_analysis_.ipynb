{
  "nbformat": 4,
  "nbformat_minor": 0,
  "metadata": {
    "colab": {
      "provenance": [],
      "collapsed_sections": [],
      "mount_file_id": "1y0mLmhKWvOQgLirwjU0KTJtzwv73rtxG",
      "authorship_tag": "ABX9TyMgSd9OehTAmDq0EPrpJXcM",
      "include_colab_link": true
    },
    "kernelspec": {
      "name": "python3",
      "display_name": "Python 3"
    },
    "language_info": {
      "name": "python"
    }
  },
  "cells": [
    {
      "cell_type": "markdown",
      "metadata": {
        "id": "view-in-github",
        "colab_type": "text"
      },
      "source": [
        "<a href=\"https://colab.research.google.com/github/Utomi-Tom/Granular_Material_analysis/blob/main/Geomaterial_analysis_.ipynb\" target=\"_parent\"><img src=\"https://colab.research.google.com/assets/colab-badge.svg\" alt=\"Open In Colab\"/></a>"
      ]
    },
    {
      "cell_type": "markdown",
      "source": [
        "# Introduction\n",
        "The dataset used for this project is sposnored by the BMBF. It contains measures from triaxial experiments of granular materials to select rheological scaled analgoue material. \n",
        "\n",
        "The prototype rocks are low porosity carbonate rocks interbeded with thin marl layers located in the malm formation within the portion of the German molasse basin.\n",
        "\n",
        "The dataset contains geotechnical measurements performed on selected mixtures of sand and gypsum. \n",
        "\n",
        "The aim of the tests was to determine suitable material with rheology similar to outcrop prototype which happens to be the interbedded Carbonate and marl  Malm formation. \n",
        "\n",
        "Types of Materials\n",
        "\n",
        "\n",
        "1.   Gypsum\n",
        "2.   Sand\n",
        "\n",
        "3.   Flour\n",
        "\n",
        "## Geotechnical tests\n",
        "\n",
        "**What Is Geotechnical Analysis**\n",
        "\n",
        "Geotechnical analysis is executed by geologists to determine informations regarding the petro-physical characteristics of soil and rock. These parameters in Engineering sector- are used to design foundations for planned structures, in geoscience they are used for reservoir characterisation, rheological characterisations and in analogue modelling for scaling purposes. Data are minned from rock samples collected from varying depth locations of interest and accessibility.\n",
        "\n",
        "**what tests where performed on the sample and why?**\n",
        "\n",
        "\n",
        "**what do i hope to achieve from this project**\n",
        "1. Observe and visualize relationships existing between measured parameters.\n",
        "2. Determine new features from existing parameters such as Slip and Dilation tendency.\n",
        "3. Create a machine learning model- using sklearn library, that predicts a selected target property.\n",
        "\n",
        "\n",
        "**Problem statement**\n",
        "\n",
        "Rock rheological classification from triaxial test. \n",
        "\n",
        "\n",
        "\n",
        "# Aim\n",
        "\n",
        "We aim to create models that can classify rock rheology based on idetified fundamental parameters of triaxial test. \n"
      ],
      "metadata": {
        "id": "1-xPTiT4_EzL"
      }
    },
    {
      "cell_type": "markdown",
      "source": [
        "# Implentation of tools "
      ],
      "metadata": {
        "id": "rBuOFZBw390C"
      }
    },
    {
      "cell_type": "code",
      "execution_count": 18,
      "metadata": {
        "id": "R6YAKKAs3v4D"
      },
      "outputs": [],
      "source": [
        "import pandas as pd\n",
        "import seaborn as sns\n",
        "import matplotlib.pyplot as plt\n",
        "\n",
        "# Seaborn display settings\n",
        "sns.set_theme(context=\"notebook\",palette=\"husl\")"
      ]
    },
    {
      "cell_type": "code",
      "source": [],
      "metadata": {
        "colab": {
          "base_uri": "https://localhost:8080/",
          "height": 134
        },
        "id": "vk9s4tmdd9ym",
        "outputId": "f99ad845-a448-4047-bcb8-8974588eba1f"
      },
      "execution_count": 16,
      "outputs": [
        {
          "output_type": "error",
          "ename": "SyntaxError",
          "evalue": "ignored",
          "traceback": [
            "\u001b[0;36m  File \u001b[0;32m\"<ipython-input-16-4c33538eeda7>\"\u001b[0;36m, line \u001b[0;32m1\u001b[0m\n\u001b[0;31m    sns.set_theme()??\u001b[0m\n\u001b[0m                   ^\u001b[0m\n\u001b[0;31mSyntaxError\u001b[0m\u001b[0;31m:\u001b[0m invalid syntax\n"
          ]
        }
      ]
    },
    {
      "cell_type": "markdown",
      "source": [
        "# Load data"
      ],
      "metadata": {
        "id": "F5c1Gn537ndU"
      }
    },
    {
      "cell_type": "code",
      "source": [
        "data = \"/content/drive/MyDrive/Analoguematerial_/Material_test.csv\"\n",
        "dataset = pd.read_csv(data,)"
      ],
      "metadata": {
        "id": "QSx8zbdr7qkY"
      },
      "execution_count": 2,
      "outputs": []
    },
    {
      "cell_type": "markdown",
      "source": [
        "## DATA QC AND QA"
      ],
      "metadata": {
        "id": "Vlqc02P7dJY1"
      }
    },
    {
      "cell_type": "code",
      "source": [
        "# Rename the parameters with undersandable names.\n",
        "Cols = [\"Material\",\"Normal_stress_Pa\",\"Shear_stress_Pa\",\"Tensile_stress_Pa\", \"Cohesion_Pa\", \"UCS_Pa\", \"Sigma1_Pa\", \"Sigma2_Pa\", \n",
        "        \"Effective_Angle_Friction\", \"React_Angle_Friction\", \"Density_g/cm³\", \"Flowability\"]\n",
        "\n",
        "Dataset = dataset.set_axis(Cols, axis=\"columns\")\n",
        "Dataset.sample(frac= 0.2)"
      ],
      "metadata": {
        "colab": {
          "base_uri": "https://localhost:8080/",
          "height": 402
        },
        "id": "TvIOr8kHdKy5",
        "outputId": "c9a20db3-3ef3-4079-a570-72fc9dfa1043"
      },
      "execution_count": 3,
      "outputs": [
        {
          "output_type": "execute_result",
          "data": {
            "text/plain": [
              "     Material  Normal_stress_Pa  Shear_stress_Pa  Tensile_stress_Pa  \\\n",
              "22  GP25-SN75               636              464                174   \n",
              "26  GP25-SN75              1619             1192                161   \n",
              "30  flour 100              1074              797                530   \n",
              "19  GP50-SN50              1599             1356                515   \n",
              "32  flour 100              1566             1227                163   \n",
              "13  GP75-SN25              1587             1275                452   \n",
              "34  flour 100              1559             1237                437   \n",
              "\n",
              "    Cohesion_Pa  UCS_Pa  Sigma1_Pa  Sigma2_Pa  Effective_Angle_Friction  \\\n",
              "22          139     449       1365        355                      35.5   \n",
              "26          200     719       3781        949                      36.6   \n",
              "30          421    1200       2230        506                      37.0   \n",
              "19          439    1495       3866        817                      39.8   \n",
              "32          550    1727       3573        750                      39.3   \n",
              "13          422    1403       3686        827                      38.5   \n",
              "34          542    1642       3393        762                      37.8   \n",
              "\n",
              "    React_Angle_Friction  Density_g/cm³  Flowability  \n",
              "22                  31.4          1.173         3.04  \n",
              "26                  33.8          1.181         5.26  \n",
              "30                  26.5          0.605         1.86  \n",
              "19                  38.7          0.984         2.59  \n",
              "32                  30.0          0.620         2.07  \n",
              "13                  37.4          0.864         2.63  \n",
              "34                  24.7          0.607         2.07  "
            ],
            "text/html": [
              "\n",
              "  <div id=\"df-9cb9a29c-4db4-48a3-9458-2ec92bac9dee\">\n",
              "    <div class=\"colab-df-container\">\n",
              "      <div>\n",
              "<style scoped>\n",
              "    .dataframe tbody tr th:only-of-type {\n",
              "        vertical-align: middle;\n",
              "    }\n",
              "\n",
              "    .dataframe tbody tr th {\n",
              "        vertical-align: top;\n",
              "    }\n",
              "\n",
              "    .dataframe thead th {\n",
              "        text-align: right;\n",
              "    }\n",
              "</style>\n",
              "<table border=\"1\" class=\"dataframe\">\n",
              "  <thead>\n",
              "    <tr style=\"text-align: right;\">\n",
              "      <th></th>\n",
              "      <th>Material</th>\n",
              "      <th>Normal_stress_Pa</th>\n",
              "      <th>Shear_stress_Pa</th>\n",
              "      <th>Tensile_stress_Pa</th>\n",
              "      <th>Cohesion_Pa</th>\n",
              "      <th>UCS_Pa</th>\n",
              "      <th>Sigma1_Pa</th>\n",
              "      <th>Sigma2_Pa</th>\n",
              "      <th>Effective_Angle_Friction</th>\n",
              "      <th>React_Angle_Friction</th>\n",
              "      <th>Density_g/cm³</th>\n",
              "      <th>Flowability</th>\n",
              "    </tr>\n",
              "  </thead>\n",
              "  <tbody>\n",
              "    <tr>\n",
              "      <th>22</th>\n",
              "      <td>GP25-SN75</td>\n",
              "      <td>636</td>\n",
              "      <td>464</td>\n",
              "      <td>174</td>\n",
              "      <td>139</td>\n",
              "      <td>449</td>\n",
              "      <td>1365</td>\n",
              "      <td>355</td>\n",
              "      <td>35.5</td>\n",
              "      <td>31.4</td>\n",
              "      <td>1.173</td>\n",
              "      <td>3.04</td>\n",
              "    </tr>\n",
              "    <tr>\n",
              "      <th>26</th>\n",
              "      <td>GP25-SN75</td>\n",
              "      <td>1619</td>\n",
              "      <td>1192</td>\n",
              "      <td>161</td>\n",
              "      <td>200</td>\n",
              "      <td>719</td>\n",
              "      <td>3781</td>\n",
              "      <td>949</td>\n",
              "      <td>36.6</td>\n",
              "      <td>33.8</td>\n",
              "      <td>1.181</td>\n",
              "      <td>5.26</td>\n",
              "    </tr>\n",
              "    <tr>\n",
              "      <th>30</th>\n",
              "      <td>flour 100</td>\n",
              "      <td>1074</td>\n",
              "      <td>797</td>\n",
              "      <td>530</td>\n",
              "      <td>421</td>\n",
              "      <td>1200</td>\n",
              "      <td>2230</td>\n",
              "      <td>506</td>\n",
              "      <td>37.0</td>\n",
              "      <td>26.5</td>\n",
              "      <td>0.605</td>\n",
              "      <td>1.86</td>\n",
              "    </tr>\n",
              "    <tr>\n",
              "      <th>19</th>\n",
              "      <td>GP50-SN50</td>\n",
              "      <td>1599</td>\n",
              "      <td>1356</td>\n",
              "      <td>515</td>\n",
              "      <td>439</td>\n",
              "      <td>1495</td>\n",
              "      <td>3866</td>\n",
              "      <td>817</td>\n",
              "      <td>39.8</td>\n",
              "      <td>38.7</td>\n",
              "      <td>0.984</td>\n",
              "      <td>2.59</td>\n",
              "    </tr>\n",
              "    <tr>\n",
              "      <th>32</th>\n",
              "      <td>flour 100</td>\n",
              "      <td>1566</td>\n",
              "      <td>1227</td>\n",
              "      <td>163</td>\n",
              "      <td>550</td>\n",
              "      <td>1727</td>\n",
              "      <td>3573</td>\n",
              "      <td>750</td>\n",
              "      <td>39.3</td>\n",
              "      <td>30.0</td>\n",
              "      <td>0.620</td>\n",
              "      <td>2.07</td>\n",
              "    </tr>\n",
              "    <tr>\n",
              "      <th>13</th>\n",
              "      <td>GP75-SN25</td>\n",
              "      <td>1587</td>\n",
              "      <td>1275</td>\n",
              "      <td>452</td>\n",
              "      <td>422</td>\n",
              "      <td>1403</td>\n",
              "      <td>3686</td>\n",
              "      <td>827</td>\n",
              "      <td>38.5</td>\n",
              "      <td>37.4</td>\n",
              "      <td>0.864</td>\n",
              "      <td>2.63</td>\n",
              "    </tr>\n",
              "    <tr>\n",
              "      <th>34</th>\n",
              "      <td>flour 100</td>\n",
              "      <td>1559</td>\n",
              "      <td>1237</td>\n",
              "      <td>437</td>\n",
              "      <td>542</td>\n",
              "      <td>1642</td>\n",
              "      <td>3393</td>\n",
              "      <td>762</td>\n",
              "      <td>37.8</td>\n",
              "      <td>24.7</td>\n",
              "      <td>0.607</td>\n",
              "      <td>2.07</td>\n",
              "    </tr>\n",
              "  </tbody>\n",
              "</table>\n",
              "</div>\n",
              "      <button class=\"colab-df-convert\" onclick=\"convertToInteractive('df-9cb9a29c-4db4-48a3-9458-2ec92bac9dee')\"\n",
              "              title=\"Convert this dataframe to an interactive table.\"\n",
              "              style=\"display:none;\">\n",
              "        \n",
              "  <svg xmlns=\"http://www.w3.org/2000/svg\" height=\"24px\"viewBox=\"0 0 24 24\"\n",
              "       width=\"24px\">\n",
              "    <path d=\"M0 0h24v24H0V0z\" fill=\"none\"/>\n",
              "    <path d=\"M18.56 5.44l.94 2.06.94-2.06 2.06-.94-2.06-.94-.94-2.06-.94 2.06-2.06.94zm-11 1L8.5 8.5l.94-2.06 2.06-.94-2.06-.94L8.5 2.5l-.94 2.06-2.06.94zm10 10l.94 2.06.94-2.06 2.06-.94-2.06-.94-.94-2.06-.94 2.06-2.06.94z\"/><path d=\"M17.41 7.96l-1.37-1.37c-.4-.4-.92-.59-1.43-.59-.52 0-1.04.2-1.43.59L10.3 9.45l-7.72 7.72c-.78.78-.78 2.05 0 2.83L4 21.41c.39.39.9.59 1.41.59.51 0 1.02-.2 1.41-.59l7.78-7.78 2.81-2.81c.8-.78.8-2.07 0-2.86zM5.41 20L4 18.59l7.72-7.72 1.47 1.35L5.41 20z\"/>\n",
              "  </svg>\n",
              "      </button>\n",
              "      \n",
              "  <style>\n",
              "    .colab-df-container {\n",
              "      display:flex;\n",
              "      flex-wrap:wrap;\n",
              "      gap: 12px;\n",
              "    }\n",
              "\n",
              "    .colab-df-convert {\n",
              "      background-color: #E8F0FE;\n",
              "      border: none;\n",
              "      border-radius: 50%;\n",
              "      cursor: pointer;\n",
              "      display: none;\n",
              "      fill: #1967D2;\n",
              "      height: 32px;\n",
              "      padding: 0 0 0 0;\n",
              "      width: 32px;\n",
              "    }\n",
              "\n",
              "    .colab-df-convert:hover {\n",
              "      background-color: #E2EBFA;\n",
              "      box-shadow: 0px 1px 2px rgba(60, 64, 67, 0.3), 0px 1px 3px 1px rgba(60, 64, 67, 0.15);\n",
              "      fill: #174EA6;\n",
              "    }\n",
              "\n",
              "    [theme=dark] .colab-df-convert {\n",
              "      background-color: #3B4455;\n",
              "      fill: #D2E3FC;\n",
              "    }\n",
              "\n",
              "    [theme=dark] .colab-df-convert:hover {\n",
              "      background-color: #434B5C;\n",
              "      box-shadow: 0px 1px 3px 1px rgba(0, 0, 0, 0.15);\n",
              "      filter: drop-shadow(0px 1px 2px rgba(0, 0, 0, 0.3));\n",
              "      fill: #FFFFFF;\n",
              "    }\n",
              "  </style>\n",
              "\n",
              "      <script>\n",
              "        const buttonEl =\n",
              "          document.querySelector('#df-9cb9a29c-4db4-48a3-9458-2ec92bac9dee button.colab-df-convert');\n",
              "        buttonEl.style.display =\n",
              "          google.colab.kernel.accessAllowed ? 'block' : 'none';\n",
              "\n",
              "        async function convertToInteractive(key) {\n",
              "          const element = document.querySelector('#df-9cb9a29c-4db4-48a3-9458-2ec92bac9dee');\n",
              "          const dataTable =\n",
              "            await google.colab.kernel.invokeFunction('convertToInteractive',\n",
              "                                                     [key], {});\n",
              "          if (!dataTable) return;\n",
              "\n",
              "          const docLinkHtml = 'Like what you see? Visit the ' +\n",
              "            '<a target=\"_blank\" href=https://colab.research.google.com/notebooks/data_table.ipynb>data table notebook</a>'\n",
              "            + ' to learn more about interactive tables.';\n",
              "          element.innerHTML = '';\n",
              "          dataTable['output_type'] = 'display_data';\n",
              "          await google.colab.output.renderOutput(dataTable, element);\n",
              "          const docLink = document.createElement('div');\n",
              "          docLink.innerHTML = docLinkHtml;\n",
              "          element.appendChild(docLink);\n",
              "        }\n",
              "      </script>\n",
              "    </div>\n",
              "  </div>\n",
              "  "
            ]
          },
          "metadata": {},
          "execution_count": 3
        }
      ]
    },
    {
      "cell_type": "code",
      "source": [
        "# Check for missing values\n",
        "Dataset.isna().sum()"
      ],
      "metadata": {
        "colab": {
          "base_uri": "https://localhost:8080/"
        },
        "id": "rZPk2r8neEAR",
        "outputId": "0414c0b9-7e51-47d1-afb1-27f6e572efab"
      },
      "execution_count": 4,
      "outputs": [
        {
          "output_type": "execute_result",
          "data": {
            "text/plain": [
              "Material                    0\n",
              "Normal_stress_Pa            0\n",
              "Shear_stress_Pa             0\n",
              "Tensile_stress_Pa           0\n",
              "Cohesion_Pa                 0\n",
              "UCS_Pa                      0\n",
              "Sigma1_Pa                   0\n",
              "Sigma2_Pa                   0\n",
              "Effective_Angle_Friction    0\n",
              "React_Angle_Friction        0\n",
              "Density_g/cm³               0\n",
              "Flowability                 0\n",
              "dtype: int64"
            ]
          },
          "metadata": {},
          "execution_count": 4
        }
      ]
    },
    {
      "cell_type": "markdown",
      "source": [
        "# Feature Engineering"
      ],
      "metadata": {
        "id": "00tlLoHUevQn"
      }
    },
    {
      "cell_type": "code",
      "source": [
        "# Create a column on the Dataset that qualifies material rheology based on Flowability and cohesion\n",
        "import numpy as np\n",
        "\n",
        "Dataset[\"Rheology\"] = np.where(Dataset['Flowability'] < 3.0, \"Cohesive\", \"Incohesive\")\n",
        "\n",
        "\n",
        "# The slip tendency (T,) of a surface is defined as the ratio of shear stress to normal stress on that surface:\n",
        "Dataset[\"Slip_Tendency\"] = Dataset[\"Shear_stress_Pa\"] / Dataset[\"Normal_stress_Pa\"]\n",
        "\n",
        "Dataset.sample(7)"
      ],
      "metadata": {
        "colab": {
          "base_uri": "https://localhost:8080/",
          "height": 419
        },
        "id": "ox8e-VMpeyvR",
        "outputId": "273a772a-01fb-4549-cbdd-842878752a73"
      },
      "execution_count": 5,
      "outputs": [
        {
          "output_type": "execute_result",
          "data": {
            "text/plain": [
              "     Material  Normal_stress_Pa  Shear_stress_Pa  Tensile_stress_Pa  \\\n",
              "24  GP25-SN75              1130              828                 33   \n",
              "27  flour 100               580              409                  4   \n",
              "15  GP50-SN50               612              529                160   \n",
              "0      GP 100               587              518                344   \n",
              "11  GP75-SN25              1093              886                395   \n",
              "14  GP50-SN50               612              518                255   \n",
              "23  GP25-SN75              1132              859                108   \n",
              "\n",
              "    Cohesion_Pa  UCS_Pa  Sigma1_Pa  Sigma2_Pa  Effective_Angle_Friction  \\\n",
              "24          191     669       2622        640                      37.1   \n",
              "27          202     599       1226        286                      37.0   \n",
              "15          192     646       1497        300                      40.7   \n",
              "0           260     781       1344        250                      40.7   \n",
              "11          353    1123       2491        541                      38.8   \n",
              "14          208     676       1455        294                      40.2   \n",
              "23          210     727       2633        634                      37.4   \n",
              "\n",
              "    React_Angle_Friction  Density_g/cm³  Flowability    Rheology  \\\n",
              "24                  33.2          1.164         3.92  Incohesive   \n",
              "27                  28.2          0.568         2.05    Cohesive   \n",
              "15                  38.6          0.904         2.32    Cohesive   \n",
              "0                   34.2          0.665         1.72    Cohesive   \n",
              "11                  34.9          0.832         2.22    Cohesive   \n",
              "14                  37.8          0.909         2.15    Cohesive   \n",
              "23                  32.0          1.177         3.62  Incohesive   \n",
              "\n",
              "    Slip_Tendency  \n",
              "24       0.732743  \n",
              "27       0.705172  \n",
              "15       0.864379  \n",
              "0        0.882453  \n",
              "11       0.810613  \n",
              "14       0.846405  \n",
              "23       0.758834  "
            ],
            "text/html": [
              "\n",
              "  <div id=\"df-e4423035-437a-4fb9-b252-81a7dd65a206\">\n",
              "    <div class=\"colab-df-container\">\n",
              "      <div>\n",
              "<style scoped>\n",
              "    .dataframe tbody tr th:only-of-type {\n",
              "        vertical-align: middle;\n",
              "    }\n",
              "\n",
              "    .dataframe tbody tr th {\n",
              "        vertical-align: top;\n",
              "    }\n",
              "\n",
              "    .dataframe thead th {\n",
              "        text-align: right;\n",
              "    }\n",
              "</style>\n",
              "<table border=\"1\" class=\"dataframe\">\n",
              "  <thead>\n",
              "    <tr style=\"text-align: right;\">\n",
              "      <th></th>\n",
              "      <th>Material</th>\n",
              "      <th>Normal_stress_Pa</th>\n",
              "      <th>Shear_stress_Pa</th>\n",
              "      <th>Tensile_stress_Pa</th>\n",
              "      <th>Cohesion_Pa</th>\n",
              "      <th>UCS_Pa</th>\n",
              "      <th>Sigma1_Pa</th>\n",
              "      <th>Sigma2_Pa</th>\n",
              "      <th>Effective_Angle_Friction</th>\n",
              "      <th>React_Angle_Friction</th>\n",
              "      <th>Density_g/cm³</th>\n",
              "      <th>Flowability</th>\n",
              "      <th>Rheology</th>\n",
              "      <th>Slip_Tendency</th>\n",
              "    </tr>\n",
              "  </thead>\n",
              "  <tbody>\n",
              "    <tr>\n",
              "      <th>24</th>\n",
              "      <td>GP25-SN75</td>\n",
              "      <td>1130</td>\n",
              "      <td>828</td>\n",
              "      <td>33</td>\n",
              "      <td>191</td>\n",
              "      <td>669</td>\n",
              "      <td>2622</td>\n",
              "      <td>640</td>\n",
              "      <td>37.1</td>\n",
              "      <td>33.2</td>\n",
              "      <td>1.164</td>\n",
              "      <td>3.92</td>\n",
              "      <td>Incohesive</td>\n",
              "      <td>0.732743</td>\n",
              "    </tr>\n",
              "    <tr>\n",
              "      <th>27</th>\n",
              "      <td>flour 100</td>\n",
              "      <td>580</td>\n",
              "      <td>409</td>\n",
              "      <td>4</td>\n",
              "      <td>202</td>\n",
              "      <td>599</td>\n",
              "      <td>1226</td>\n",
              "      <td>286</td>\n",
              "      <td>37.0</td>\n",
              "      <td>28.2</td>\n",
              "      <td>0.568</td>\n",
              "      <td>2.05</td>\n",
              "      <td>Cohesive</td>\n",
              "      <td>0.705172</td>\n",
              "    </tr>\n",
              "    <tr>\n",
              "      <th>15</th>\n",
              "      <td>GP50-SN50</td>\n",
              "      <td>612</td>\n",
              "      <td>529</td>\n",
              "      <td>160</td>\n",
              "      <td>192</td>\n",
              "      <td>646</td>\n",
              "      <td>1497</td>\n",
              "      <td>300</td>\n",
              "      <td>40.7</td>\n",
              "      <td>38.6</td>\n",
              "      <td>0.904</td>\n",
              "      <td>2.32</td>\n",
              "      <td>Cohesive</td>\n",
              "      <td>0.864379</td>\n",
              "    </tr>\n",
              "    <tr>\n",
              "      <th>0</th>\n",
              "      <td>GP 100</td>\n",
              "      <td>587</td>\n",
              "      <td>518</td>\n",
              "      <td>344</td>\n",
              "      <td>260</td>\n",
              "      <td>781</td>\n",
              "      <td>1344</td>\n",
              "      <td>250</td>\n",
              "      <td>40.7</td>\n",
              "      <td>34.2</td>\n",
              "      <td>0.665</td>\n",
              "      <td>1.72</td>\n",
              "      <td>Cohesive</td>\n",
              "      <td>0.882453</td>\n",
              "    </tr>\n",
              "    <tr>\n",
              "      <th>11</th>\n",
              "      <td>GP75-SN25</td>\n",
              "      <td>1093</td>\n",
              "      <td>886</td>\n",
              "      <td>395</td>\n",
              "      <td>353</td>\n",
              "      <td>1123</td>\n",
              "      <td>2491</td>\n",
              "      <td>541</td>\n",
              "      <td>38.8</td>\n",
              "      <td>34.9</td>\n",
              "      <td>0.832</td>\n",
              "      <td>2.22</td>\n",
              "      <td>Cohesive</td>\n",
              "      <td>0.810613</td>\n",
              "    </tr>\n",
              "    <tr>\n",
              "      <th>14</th>\n",
              "      <td>GP50-SN50</td>\n",
              "      <td>612</td>\n",
              "      <td>518</td>\n",
              "      <td>255</td>\n",
              "      <td>208</td>\n",
              "      <td>676</td>\n",
              "      <td>1455</td>\n",
              "      <td>294</td>\n",
              "      <td>40.2</td>\n",
              "      <td>37.8</td>\n",
              "      <td>0.909</td>\n",
              "      <td>2.15</td>\n",
              "      <td>Cohesive</td>\n",
              "      <td>0.846405</td>\n",
              "    </tr>\n",
              "    <tr>\n",
              "      <th>23</th>\n",
              "      <td>GP25-SN75</td>\n",
              "      <td>1132</td>\n",
              "      <td>859</td>\n",
              "      <td>108</td>\n",
              "      <td>210</td>\n",
              "      <td>727</td>\n",
              "      <td>2633</td>\n",
              "      <td>634</td>\n",
              "      <td>37.4</td>\n",
              "      <td>32.0</td>\n",
              "      <td>1.177</td>\n",
              "      <td>3.62</td>\n",
              "      <td>Incohesive</td>\n",
              "      <td>0.758834</td>\n",
              "    </tr>\n",
              "  </tbody>\n",
              "</table>\n",
              "</div>\n",
              "      <button class=\"colab-df-convert\" onclick=\"convertToInteractive('df-e4423035-437a-4fb9-b252-81a7dd65a206')\"\n",
              "              title=\"Convert this dataframe to an interactive table.\"\n",
              "              style=\"display:none;\">\n",
              "        \n",
              "  <svg xmlns=\"http://www.w3.org/2000/svg\" height=\"24px\"viewBox=\"0 0 24 24\"\n",
              "       width=\"24px\">\n",
              "    <path d=\"M0 0h24v24H0V0z\" fill=\"none\"/>\n",
              "    <path d=\"M18.56 5.44l.94 2.06.94-2.06 2.06-.94-2.06-.94-.94-2.06-.94 2.06-2.06.94zm-11 1L8.5 8.5l.94-2.06 2.06-.94-2.06-.94L8.5 2.5l-.94 2.06-2.06.94zm10 10l.94 2.06.94-2.06 2.06-.94-2.06-.94-.94-2.06-.94 2.06-2.06.94z\"/><path d=\"M17.41 7.96l-1.37-1.37c-.4-.4-.92-.59-1.43-.59-.52 0-1.04.2-1.43.59L10.3 9.45l-7.72 7.72c-.78.78-.78 2.05 0 2.83L4 21.41c.39.39.9.59 1.41.59.51 0 1.02-.2 1.41-.59l7.78-7.78 2.81-2.81c.8-.78.8-2.07 0-2.86zM5.41 20L4 18.59l7.72-7.72 1.47 1.35L5.41 20z\"/>\n",
              "  </svg>\n",
              "      </button>\n",
              "      \n",
              "  <style>\n",
              "    .colab-df-container {\n",
              "      display:flex;\n",
              "      flex-wrap:wrap;\n",
              "      gap: 12px;\n",
              "    }\n",
              "\n",
              "    .colab-df-convert {\n",
              "      background-color: #E8F0FE;\n",
              "      border: none;\n",
              "      border-radius: 50%;\n",
              "      cursor: pointer;\n",
              "      display: none;\n",
              "      fill: #1967D2;\n",
              "      height: 32px;\n",
              "      padding: 0 0 0 0;\n",
              "      width: 32px;\n",
              "    }\n",
              "\n",
              "    .colab-df-convert:hover {\n",
              "      background-color: #E2EBFA;\n",
              "      box-shadow: 0px 1px 2px rgba(60, 64, 67, 0.3), 0px 1px 3px 1px rgba(60, 64, 67, 0.15);\n",
              "      fill: #174EA6;\n",
              "    }\n",
              "\n",
              "    [theme=dark] .colab-df-convert {\n",
              "      background-color: #3B4455;\n",
              "      fill: #D2E3FC;\n",
              "    }\n",
              "\n",
              "    [theme=dark] .colab-df-convert:hover {\n",
              "      background-color: #434B5C;\n",
              "      box-shadow: 0px 1px 3px 1px rgba(0, 0, 0, 0.15);\n",
              "      filter: drop-shadow(0px 1px 2px rgba(0, 0, 0, 0.3));\n",
              "      fill: #FFFFFF;\n",
              "    }\n",
              "  </style>\n",
              "\n",
              "      <script>\n",
              "        const buttonEl =\n",
              "          document.querySelector('#df-e4423035-437a-4fb9-b252-81a7dd65a206 button.colab-df-convert');\n",
              "        buttonEl.style.display =\n",
              "          google.colab.kernel.accessAllowed ? 'block' : 'none';\n",
              "\n",
              "        async function convertToInteractive(key) {\n",
              "          const element = document.querySelector('#df-e4423035-437a-4fb9-b252-81a7dd65a206');\n",
              "          const dataTable =\n",
              "            await google.colab.kernel.invokeFunction('convertToInteractive',\n",
              "                                                     [key], {});\n",
              "          if (!dataTable) return;\n",
              "\n",
              "          const docLinkHtml = 'Like what you see? Visit the ' +\n",
              "            '<a target=\"_blank\" href=https://colab.research.google.com/notebooks/data_table.ipynb>data table notebook</a>'\n",
              "            + ' to learn more about interactive tables.';\n",
              "          element.innerHTML = '';\n",
              "          dataTable['output_type'] = 'display_data';\n",
              "          await google.colab.output.renderOutput(dataTable, element);\n",
              "          const docLink = document.createElement('div');\n",
              "          docLink.innerHTML = docLinkHtml;\n",
              "          element.appendChild(docLink);\n",
              "        }\n",
              "      </script>\n",
              "    </div>\n",
              "  </div>\n",
              "  "
            ]
          },
          "metadata": {},
          "execution_count": 5
        }
      ]
    },
    {
      "cell_type": "code",
      "source": [
        "# Shuffle dataset and create independent variables and target column for training . \n",
        "Shuff =Dataset.sample(frac=1)\n",
        "X = Shuff.drop(['Material',\"Rheology\"], axis = 1)\n",
        "Y = Shuff[\"Rheology\"]"
      ],
      "metadata": {
        "id": "4GO0HsJ1kQj9"
      },
      "execution_count": 6,
      "outputs": []
    },
    {
      "cell_type": "code",
      "source": [
        "# split dataset \n",
        "from sklearn.model_selection import train_test_split\n",
        "\n",
        "x_tr, x_t, y_tr, y_t = train_test_split(X,Y,\n",
        "                                        test_size=0.3, )"
      ],
      "metadata": {
        "id": "JsCP1lgNkR54"
      },
      "execution_count": 7,
      "outputs": []
    },
    {
      "cell_type": "code",
      "source": [
        "x_tr.shape,x_t.shape,y_tr.shape,y_t.shape"
      ],
      "metadata": {
        "colab": {
          "base_uri": "https://localhost:8080/"
        },
        "id": "hlhQvb8HmZbD",
        "outputId": "d61c0e99-e2f7-4eaf-8844-e498262571ca"
      },
      "execution_count": 8,
      "outputs": [
        {
          "output_type": "execute_result",
          "data": {
            "text/plain": [
              "((24, 12), (11, 12), (24,), (11,))"
            ]
          },
          "metadata": {},
          "execution_count": 8
        }
      ]
    },
    {
      "cell_type": "markdown",
      "source": [
        "## EXPLORATORY DATA ANALYSIS\n",
        "\n",
        "Now that the dataset has been sorted into batches for training and testing. We would like to manipulate and visualize the training dataset for more knowledge discovery from data."
      ],
      "metadata": {
        "id": "NzKrR3vsAvKO"
      }
    },
    {
      "cell_type": "code",
      "source": [
        "## General describption of train_data\n",
        "x_tr.describe()"
      ],
      "metadata": {
        "colab": {
          "base_uri": "https://localhost:8080/",
          "height": 364
        },
        "id": "Z0RMWTdRAvsT",
        "outputId": "08d11dd6-5cb6-4954-f8df-4ae4a02ced1e"
      },
      "execution_count": 20,
      "outputs": [
        {
          "output_type": "execute_result",
          "data": {
            "text/plain": [
              "       Normal_stress_Pa  Shear_stress_Pa  Tensile_stress_Pa  Cohesion_Pa  \\\n",
              "count         24.000000        24.000000          24.000000    24.000000   \n",
              "mean        1075.041667       873.875000         281.750000   312.958333   \n",
              "std          423.656801       344.218752         158.168389   120.726957   \n",
              "min          579.000000       409.000000           4.000000   139.000000   \n",
              "25%          608.750000       515.500000         165.250000   206.750000   \n",
              "50%         1098.500000       896.000000         274.000000   299.500000   \n",
              "75%         1568.000000      1200.750000         385.750000   438.250000   \n",
              "max         1619.000000      1451.000000         546.000000   550.000000   \n",
              "\n",
              "            UCS_Pa    Sigma1_Pa   Sigma2_Pa  Effective_Angle_Friction  \\\n",
              "count    24.000000    24.000000   24.000000                 24.000000   \n",
              "mean   1022.541667  2521.791667  544.875000                 39.175000   \n",
              "std     388.881113  1016.133421  231.803949                  2.046683   \n",
              "min     449.000000  1226.000000  243.000000                 35.500000   \n",
              "25%     686.500000  1476.750000  292.000000                 37.975000   \n",
              "50%    1018.500000  2571.000000  549.000000                 38.850000   \n",
              "75%    1405.000000  3594.250000  788.500000                 40.900000   \n",
              "max    1727.000000  4126.000000  949.000000                 43.000000   \n",
              "\n",
              "       React_Angle_Friction  Density_g/cm³  Flowability  Slip_Tendency  \n",
              "count             24.000000      24.000000    24.000000      24.000000  \n",
              "mean              34.445833       0.843250     2.514167       0.815740  \n",
              "std                4.894272       0.200574     0.732589       0.073231  \n",
              "min               20.800000       0.550000     1.670000       0.694764  \n",
              "25%               31.850000       0.664250     2.130000       0.757207  \n",
              "50%               35.550000       0.842500     2.405000       0.813291  \n",
              "75%               37.650000       0.959500     2.600000       0.852746  \n",
              "max               41.300000       1.181000     5.260000       0.952646  "
            ],
            "text/html": [
              "\n",
              "  <div id=\"df-d4bdea40-c1fb-46d3-8340-8be09b078cf1\">\n",
              "    <div class=\"colab-df-container\">\n",
              "      <div>\n",
              "<style scoped>\n",
              "    .dataframe tbody tr th:only-of-type {\n",
              "        vertical-align: middle;\n",
              "    }\n",
              "\n",
              "    .dataframe tbody tr th {\n",
              "        vertical-align: top;\n",
              "    }\n",
              "\n",
              "    .dataframe thead th {\n",
              "        text-align: right;\n",
              "    }\n",
              "</style>\n",
              "<table border=\"1\" class=\"dataframe\">\n",
              "  <thead>\n",
              "    <tr style=\"text-align: right;\">\n",
              "      <th></th>\n",
              "      <th>Normal_stress_Pa</th>\n",
              "      <th>Shear_stress_Pa</th>\n",
              "      <th>Tensile_stress_Pa</th>\n",
              "      <th>Cohesion_Pa</th>\n",
              "      <th>UCS_Pa</th>\n",
              "      <th>Sigma1_Pa</th>\n",
              "      <th>Sigma2_Pa</th>\n",
              "      <th>Effective_Angle_Friction</th>\n",
              "      <th>React_Angle_Friction</th>\n",
              "      <th>Density_g/cm³</th>\n",
              "      <th>Flowability</th>\n",
              "      <th>Slip_Tendency</th>\n",
              "    </tr>\n",
              "  </thead>\n",
              "  <tbody>\n",
              "    <tr>\n",
              "      <th>count</th>\n",
              "      <td>24.000000</td>\n",
              "      <td>24.000000</td>\n",
              "      <td>24.000000</td>\n",
              "      <td>24.000000</td>\n",
              "      <td>24.000000</td>\n",
              "      <td>24.000000</td>\n",
              "      <td>24.000000</td>\n",
              "      <td>24.000000</td>\n",
              "      <td>24.000000</td>\n",
              "      <td>24.000000</td>\n",
              "      <td>24.000000</td>\n",
              "      <td>24.000000</td>\n",
              "    </tr>\n",
              "    <tr>\n",
              "      <th>mean</th>\n",
              "      <td>1075.041667</td>\n",
              "      <td>873.875000</td>\n",
              "      <td>281.750000</td>\n",
              "      <td>312.958333</td>\n",
              "      <td>1022.541667</td>\n",
              "      <td>2521.791667</td>\n",
              "      <td>544.875000</td>\n",
              "      <td>39.175000</td>\n",
              "      <td>34.445833</td>\n",
              "      <td>0.843250</td>\n",
              "      <td>2.514167</td>\n",
              "      <td>0.815740</td>\n",
              "    </tr>\n",
              "    <tr>\n",
              "      <th>std</th>\n",
              "      <td>423.656801</td>\n",
              "      <td>344.218752</td>\n",
              "      <td>158.168389</td>\n",
              "      <td>120.726957</td>\n",
              "      <td>388.881113</td>\n",
              "      <td>1016.133421</td>\n",
              "      <td>231.803949</td>\n",
              "      <td>2.046683</td>\n",
              "      <td>4.894272</td>\n",
              "      <td>0.200574</td>\n",
              "      <td>0.732589</td>\n",
              "      <td>0.073231</td>\n",
              "    </tr>\n",
              "    <tr>\n",
              "      <th>min</th>\n",
              "      <td>579.000000</td>\n",
              "      <td>409.000000</td>\n",
              "      <td>4.000000</td>\n",
              "      <td>139.000000</td>\n",
              "      <td>449.000000</td>\n",
              "      <td>1226.000000</td>\n",
              "      <td>243.000000</td>\n",
              "      <td>35.500000</td>\n",
              "      <td>20.800000</td>\n",
              "      <td>0.550000</td>\n",
              "      <td>1.670000</td>\n",
              "      <td>0.694764</td>\n",
              "    </tr>\n",
              "    <tr>\n",
              "      <th>25%</th>\n",
              "      <td>608.750000</td>\n",
              "      <td>515.500000</td>\n",
              "      <td>165.250000</td>\n",
              "      <td>206.750000</td>\n",
              "      <td>686.500000</td>\n",
              "      <td>1476.750000</td>\n",
              "      <td>292.000000</td>\n",
              "      <td>37.975000</td>\n",
              "      <td>31.850000</td>\n",
              "      <td>0.664250</td>\n",
              "      <td>2.130000</td>\n",
              "      <td>0.757207</td>\n",
              "    </tr>\n",
              "    <tr>\n",
              "      <th>50%</th>\n",
              "      <td>1098.500000</td>\n",
              "      <td>896.000000</td>\n",
              "      <td>274.000000</td>\n",
              "      <td>299.500000</td>\n",
              "      <td>1018.500000</td>\n",
              "      <td>2571.000000</td>\n",
              "      <td>549.000000</td>\n",
              "      <td>38.850000</td>\n",
              "      <td>35.550000</td>\n",
              "      <td>0.842500</td>\n",
              "      <td>2.405000</td>\n",
              "      <td>0.813291</td>\n",
              "    </tr>\n",
              "    <tr>\n",
              "      <th>75%</th>\n",
              "      <td>1568.000000</td>\n",
              "      <td>1200.750000</td>\n",
              "      <td>385.750000</td>\n",
              "      <td>438.250000</td>\n",
              "      <td>1405.000000</td>\n",
              "      <td>3594.250000</td>\n",
              "      <td>788.500000</td>\n",
              "      <td>40.900000</td>\n",
              "      <td>37.650000</td>\n",
              "      <td>0.959500</td>\n",
              "      <td>2.600000</td>\n",
              "      <td>0.852746</td>\n",
              "    </tr>\n",
              "    <tr>\n",
              "      <th>max</th>\n",
              "      <td>1619.000000</td>\n",
              "      <td>1451.000000</td>\n",
              "      <td>546.000000</td>\n",
              "      <td>550.000000</td>\n",
              "      <td>1727.000000</td>\n",
              "      <td>4126.000000</td>\n",
              "      <td>949.000000</td>\n",
              "      <td>43.000000</td>\n",
              "      <td>41.300000</td>\n",
              "      <td>1.181000</td>\n",
              "      <td>5.260000</td>\n",
              "      <td>0.952646</td>\n",
              "    </tr>\n",
              "  </tbody>\n",
              "</table>\n",
              "</div>\n",
              "      <button class=\"colab-df-convert\" onclick=\"convertToInteractive('df-d4bdea40-c1fb-46d3-8340-8be09b078cf1')\"\n",
              "              title=\"Convert this dataframe to an interactive table.\"\n",
              "              style=\"display:none;\">\n",
              "        \n",
              "  <svg xmlns=\"http://www.w3.org/2000/svg\" height=\"24px\"viewBox=\"0 0 24 24\"\n",
              "       width=\"24px\">\n",
              "    <path d=\"M0 0h24v24H0V0z\" fill=\"none\"/>\n",
              "    <path d=\"M18.56 5.44l.94 2.06.94-2.06 2.06-.94-2.06-.94-.94-2.06-.94 2.06-2.06.94zm-11 1L8.5 8.5l.94-2.06 2.06-.94-2.06-.94L8.5 2.5l-.94 2.06-2.06.94zm10 10l.94 2.06.94-2.06 2.06-.94-2.06-.94-.94-2.06-.94 2.06-2.06.94z\"/><path d=\"M17.41 7.96l-1.37-1.37c-.4-.4-.92-.59-1.43-.59-.52 0-1.04.2-1.43.59L10.3 9.45l-7.72 7.72c-.78.78-.78 2.05 0 2.83L4 21.41c.39.39.9.59 1.41.59.51 0 1.02-.2 1.41-.59l7.78-7.78 2.81-2.81c.8-.78.8-2.07 0-2.86zM5.41 20L4 18.59l7.72-7.72 1.47 1.35L5.41 20z\"/>\n",
              "  </svg>\n",
              "      </button>\n",
              "      \n",
              "  <style>\n",
              "    .colab-df-container {\n",
              "      display:flex;\n",
              "      flex-wrap:wrap;\n",
              "      gap: 12px;\n",
              "    }\n",
              "\n",
              "    .colab-df-convert {\n",
              "      background-color: #E8F0FE;\n",
              "      border: none;\n",
              "      border-radius: 50%;\n",
              "      cursor: pointer;\n",
              "      display: none;\n",
              "      fill: #1967D2;\n",
              "      height: 32px;\n",
              "      padding: 0 0 0 0;\n",
              "      width: 32px;\n",
              "    }\n",
              "\n",
              "    .colab-df-convert:hover {\n",
              "      background-color: #E2EBFA;\n",
              "      box-shadow: 0px 1px 2px rgba(60, 64, 67, 0.3), 0px 1px 3px 1px rgba(60, 64, 67, 0.15);\n",
              "      fill: #174EA6;\n",
              "    }\n",
              "\n",
              "    [theme=dark] .colab-df-convert {\n",
              "      background-color: #3B4455;\n",
              "      fill: #D2E3FC;\n",
              "    }\n",
              "\n",
              "    [theme=dark] .colab-df-convert:hover {\n",
              "      background-color: #434B5C;\n",
              "      box-shadow: 0px 1px 3px 1px rgba(0, 0, 0, 0.15);\n",
              "      filter: drop-shadow(0px 1px 2px rgba(0, 0, 0, 0.3));\n",
              "      fill: #FFFFFF;\n",
              "    }\n",
              "  </style>\n",
              "\n",
              "      <script>\n",
              "        const buttonEl =\n",
              "          document.querySelector('#df-d4bdea40-c1fb-46d3-8340-8be09b078cf1 button.colab-df-convert');\n",
              "        buttonEl.style.display =\n",
              "          google.colab.kernel.accessAllowed ? 'block' : 'none';\n",
              "\n",
              "        async function convertToInteractive(key) {\n",
              "          const element = document.querySelector('#df-d4bdea40-c1fb-46d3-8340-8be09b078cf1');\n",
              "          const dataTable =\n",
              "            await google.colab.kernel.invokeFunction('convertToInteractive',\n",
              "                                                     [key], {});\n",
              "          if (!dataTable) return;\n",
              "\n",
              "          const docLinkHtml = 'Like what you see? Visit the ' +\n",
              "            '<a target=\"_blank\" href=https://colab.research.google.com/notebooks/data_table.ipynb>data table notebook</a>'\n",
              "            + ' to learn more about interactive tables.';\n",
              "          element.innerHTML = '';\n",
              "          dataTable['output_type'] = 'display_data';\n",
              "          await google.colab.output.renderOutput(dataTable, element);\n",
              "          const docLink = document.createElement('div');\n",
              "          docLink.innerHTML = docLinkHtml;\n",
              "          element.appendChild(docLink);\n",
              "        }\n",
              "      </script>\n",
              "    </div>\n",
              "  </div>\n",
              "  "
            ]
          },
          "metadata": {},
          "execution_count": 20
        }
      ]
    },
    {
      "cell_type": "markdown",
      "source": [
        "The above table gives an idea on the central tendency of each parameter, likewise individual spreads of each parameter. Their Minimum and Maximum of each parameter range. with a total of 24 training samples."
      ],
      "metadata": {
        "id": "wXsbrkD1cuP6"
      }
    },
    {
      "cell_type": "code",
      "source": [
        "print(\"Number of column in dataset: \", len(x_tr.columns))"
      ],
      "metadata": {
        "colab": {
          "base_uri": "https://localhost:8080/"
        },
        "id": "oJz3AhU0BMj_",
        "outputId": "11e1465c-8a9f-4fcb-c453-35893ac8ff9a"
      },
      "execution_count": 10,
      "outputs": [
        {
          "output_type": "stream",
          "name": "stdout",
          "text": [
            "Number of column in dataset:  12\n"
          ]
        }
      ]
    },
    {
      "cell_type": "code",
      "source": [
        "print(\"Names of Measured and derived parameters in dataset: \", pd.DataFrame(x_tr.columns,))"
      ],
      "metadata": {
        "colab": {
          "base_uri": "https://localhost:8080/"
        },
        "id": "p-68XwU5BeW0",
        "outputId": "077620f4-d1f9-46c6-f287-c1d12af19ea2"
      },
      "execution_count": 11,
      "outputs": [
        {
          "output_type": "stream",
          "name": "stdout",
          "text": [
            "Names of Measured and derived parameters in dataset:                             0\n",
            "0           Normal_stress_Pa\n",
            "1            Shear_stress_Pa\n",
            "2          Tensile_stress_Pa\n",
            "3                Cohesion_Pa\n",
            "4                     UCS_Pa\n",
            "5                  Sigma1_Pa\n",
            "6                  Sigma2_Pa\n",
            "7   Effective_Angle_Friction\n",
            "8       React_Angle_Friction\n",
            "9              Density_g/cm³\n",
            "10               Flowability\n",
            "11             Slip_Tendency\n"
          ]
        }
      ]
    },
    {
      "cell_type": "markdown",
      "source": [
        "**Univariate data analysis**"
      ],
      "metadata": {
        "id": "230ghU-bEQm4"
      }
    },
    {
      "cell_type": "code",
      "source": [
        "sns.histplot(data=Dataset, x ='Flowability', hue=\"Material\", )\n",
        "plt.title(\"Flowability\")"
      ],
      "metadata": {
        "id": "4deTpeXbDwEs",
        "colab": {
          "base_uri": "https://localhost:8080/",
          "height": 319
        },
        "outputId": "2387cd44-64aa-4e23-ec95-33c90a2cb0de"
      },
      "execution_count": 48,
      "outputs": [
        {
          "output_type": "execute_result",
          "data": {
            "text/plain": [
              "Text(0.5, 1.0, 'Flowability')"
            ]
          },
          "metadata": {},
          "execution_count": 48
        },
        {
          "output_type": "display_data",
          "data": {
            "text/plain": [
              "<Figure size 432x288 with 1 Axes>"
            ],
            "image/png": "[encoded data removed]"
          },
          "metadata": {}
        }
      ]
    },
    {
      "cell_type": "code",
      "source": [],
      "metadata": {
        "id": "djJ_tS5nDwBB"
      },
      "execution_count": 41,
      "outputs": []
    },
    {
      "cell_type": "code",
      "source": [],
      "metadata": {
        "id": "lMvqImI3Emut"
      },
      "execution_count": null,
      "outputs": []
    },
    {
      "cell_type": "markdown",
      "source": [
        "**Bivariate data analysis**"
      ],
      "metadata": {
        "id": "y4qixEocDgza"
      }
    },
    {
      "cell_type": "code",
      "source": [],
      "metadata": {
        "id": "-h_PBD2wB4b2"
      },
      "execution_count": null,
      "outputs": []
    },
    {
      "cell_type": "code",
      "source": [],
      "metadata": {
        "id": "1JsaaukfElVj"
      },
      "execution_count": null,
      "outputs": []
    },
    {
      "cell_type": "code",
      "source": [],
      "metadata": {
        "id": "_gpqs0sAElSn"
      },
      "execution_count": null,
      "outputs": []
    },
    {
      "cell_type": "markdown",
      "source": [
        "**Multivariate data analysis**"
      ],
      "metadata": {
        "id": "8FVuL0dkEewO"
      }
    },
    {
      "cell_type": "code",
      "source": [],
      "metadata": {
        "id": "h_OjWUSPEiZa"
      },
      "execution_count": null,
      "outputs": []
    },
    {
      "cell_type": "code",
      "source": [],
      "metadata": {
        "id": "wRAi8gGmEl_3"
      },
      "execution_count": null,
      "outputs": []
    },
    {
      "cell_type": "code",
      "source": [],
      "metadata": {
        "id": "iczptxhpEl83"
      },
      "execution_count": null,
      "outputs": []
    }
  ]
}