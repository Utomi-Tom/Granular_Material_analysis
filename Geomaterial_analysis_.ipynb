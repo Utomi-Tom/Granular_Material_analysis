{
  "nbformat": 4,
  "nbformat_minor": 0,
  "metadata": {
    "colab": {
      "provenance": [],
      "collapsed_sections": [],
      "mount_file_id": "1y0mLmhKWvOQgLirwjU0KTJtzwv73rtxG",
      "authorship_tag": "ABX9TyNXm3hjvHHzBR6vgM/nWi9H",
      "include_colab_link": true
    },
    "kernelspec": {
      "name": "python3",
      "display_name": "Python 3"
    },
    "language_info": {
      "name": "python"
    }
  },
  "cells": [
    {
      "cell_type": "markdown",
      "metadata": {
        "id": "view-in-github",
        "colab_type": "text"
      },
      "source": [
        "<a href=\"https://colab.research.google.com/github/Utomi-Tom/Granular_Material_analysis/blob/main/Geomaterial_analysis_.ipynb\" target=\"_parent\"><img src=\"https://colab.research.google.com/assets/colab-badge.svg\" alt=\"Open In Colab\"/></a>"
      ]
    },
    {
      "cell_type": "markdown",
      "source": [
        "# Introduction\n",
        "The dataset used for this project is sposnored by the BMBF. It contains measures from triaxial experiments of granular materials to select rheological scaled analgoue material. \n",
        "\n",
        "The prototype rocks are low porosity carbonate rocks interbeded with thin marl layers located in the malm formation within the portion of the German molasse basin.\n",
        "\n",
        "The dataset contains geotechnical measurements performed on selected mixtures of sand and gypsum. \n",
        "\n",
        "The aim of the tests was to determine suitable material with rheology similar to outcrop prototype which happens to be the interbedded Carbonate and marl  Malm formation. \n",
        "\n",
        "Types of Materials\n",
        "\n",
        "\n",
        "1.   Gypsum\n",
        "2.   Sand\n",
        "\n",
        "3.   Flour\n",
        "\n",
        "## Geotechnical tests\n",
        "\n",
        "**What Is Geotechnical Analysis**\n",
        "\n",
        "Geotechnical analysis is executed by geologists to determine informations regarding the petro-physical characteristics of soil and rock. These parameters in Engineering sector- are used to design foundations for planned structures, in geoscience they are used for reservoir characterisation, rheological characterisations and in analogue modelling for scaling purposes. Data are minned from rock samples collected from varying depth locations of interest and accessibility.\n",
        "\n",
        "**what tests where performed on the sample and why?**\n",
        "\n",
        "\n",
        "**what do i hope to achieve from this project**\n",
        "1. Observe and visualize relationships existing between measured parameters.\n",
        "2. Determine new features from existing parameters such as Slip and Dilation tendency.\n",
        "3. Create a machine learning model- using sklearn library, that predicts a selected target property.\n",
        "\n",
        "\n",
        "**Problem statement**\n",
        "\n",
        "Rock rheological classification from triaxial test. \n",
        "\n",
        "\n",
        "\n",
        "# Aim\n",
        "\n",
        "We aim to create models that can classify rock rheology based on idetified fundamental parameters of triaxial test. \n"
      ],
      "metadata": {
        "id": "1-xPTiT4_EzL"
      }
    },
    {
      "cell_type": "markdown",
      "source": [
        "# Implentation of tools "
      ],
      "metadata": {
        "id": "rBuOFZBw390C"
      }
    },
    {
      "cell_type": "code",
      "execution_count": 50,
      "metadata": {
        "id": "R6YAKKAs3v4D"
      },
      "outputs": [],
      "source": [
        "import pandas as pd\n",
        "import seaborn as sns\n",
        "import matplotlib.pyplot as plt\n",
        "\n",
        "# Seaborn display settings\n",
        "custom_params = {\"axes.spines.right\": False, \"axes.spines.top\": False}\n",
        "sns.set_theme(context=\"paper\",palette=\"husl\", style=\"ticks\", rc=custom_params)\n"
      ]
    },
    {
      "cell_type": "code",
      "source": [],
      "metadata": {
        "id": "vk9s4tmdd9ym"
      },
      "execution_count": 1,
      "outputs": []
    },
    {
      "cell_type": "markdown",
      "source": [
        "# Load data"
      ],
      "metadata": {
        "id": "F5c1Gn537ndU"
      }
    },
    {
      "cell_type": "code",
      "source": [
        "data = \"/content/drive/MyDrive/Analoguematerial_/Material_test.csv\"\n",
        "dataset = pd.read_csv(data,)"
      ],
      "metadata": {
        "id": "QSx8zbdr7qkY"
      },
      "execution_count": 3,
      "outputs": []
    },
    {
      "cell_type": "markdown",
      "source": [
        "## DATA QC AND QA"
      ],
      "metadata": {
        "id": "Vlqc02P7dJY1"
      }
    },
    {
      "cell_type": "code",
      "source": [
        "# Rename the parameters with undersandable names.\n",
        "Cols = [\"Material\",\"Normal_stress_Pa\",\"Shear_stress_Pa\",\"Tensile_stress_Pa\", \"Cohesion_Pa\", \"UCS_Pa\", \"Sigma1_Pa\", \"Sigma2_Pa\", \n",
        "        \"Effective_Angle_Friction\", \"React_Angle_Friction\", \"Density_g/cm³\", \"Flowability\"]\n",
        "\n",
        "Dataset = dataset.set_axis(Cols, axis=\"columns\")\n",
        "Dataset.sample(frac= 0.2)"
      ],
      "metadata": {
        "colab": {
          "base_uri": "https://localhost:8080/",
          "height": 419
        },
        "id": "TvIOr8kHdKy5",
        "outputId": "d2a10b79-188d-4c9a-eb13-0fff3ba3cacc"
      },
      "execution_count": 4,
      "outputs": [
        {
          "output_type": "execute_result",
          "data": {
            "text/plain": [
              "     Material  Normal_stress_Pa  Shear_stress_Pa  Tensile_stress_Pa  \\\n",
              "13  GP75-SN25              1587             1275                452   \n",
              "0      GP 100               587              518                344   \n",
              "9   GP75-SN25               599              501                 81   \n",
              "24  GP25-SN75              1130              828                 33   \n",
              "26  GP25-SN75              1619             1192                161   \n",
              "27  flour 100               580              409                  4   \n",
              "12  GP75-SN25              1587             1243                318   \n",
              "\n",
              "    Cohesion_Pa  UCS_Pa  Sigma1_Pa  Sigma2_Pa  Effective_Angle_Friction  \\\n",
              "13          422    1403       3686        827                      38.5   \n",
              "0           260     781       1344        250                      40.7   \n",
              "9           224     718       1428        277                      40.8   \n",
              "24          191     669       2622        640                      37.1   \n",
              "26          200     719       3781        949                      36.6   \n",
              "27          202     599       1226        286                      37.0   \n",
              "12          445    1461       3658        817                      38.5   \n",
              "\n",
              "    React_Angle_Friction  Density_g/cm³  Flowability  \n",
              "13                  37.4          0.864         2.63  \n",
              "0                   34.2          0.665         1.72  \n",
              "9                   34.8          0.792         1.99  \n",
              "24                  33.2          1.164         3.92  \n",
              "26                  33.8          1.181         5.26  \n",
              "27                  28.2          0.568         2.05  \n",
              "12                  35.7          0.862         2.50  "
            ],
            "text/html": [
              "\n",
              "  <div id=\"df-162d622e-155f-43f6-bfa5-3f7b4362647b\">\n",
              "    <div class=\"colab-df-container\">\n",
              "      <div>\n",
              "<style scoped>\n",
              "    .dataframe tbody tr th:only-of-type {\n",
              "        vertical-align: middle;\n",
              "    }\n",
              "\n",
              "    .dataframe tbody tr th {\n",
              "        vertical-align: top;\n",
              "    }\n",
              "\n",
              "    .dataframe thead th {\n",
              "        text-align: right;\n",
              "    }\n",
              "</style>\n",
              "<table border=\"1\" class=\"dataframe\">\n",
              "  <thead>\n",
              "    <tr style=\"text-align: right;\">\n",
              "      <th></th>\n",
              "      <th>Material</th>\n",
              "      <th>Normal_stress_Pa</th>\n",
              "      <th>Shear_stress_Pa</th>\n",
              "      <th>Tensile_stress_Pa</th>\n",
              "      <th>Cohesion_Pa</th>\n",
              "      <th>UCS_Pa</th>\n",
              "      <th>Sigma1_Pa</th>\n",
              "      <th>Sigma2_Pa</th>\n",
              "      <th>Effective_Angle_Friction</th>\n",
              "      <th>React_Angle_Friction</th>\n",
              "      <th>Density_g/cm³</th>\n",
              "      <th>Flowability</th>\n",
              "    </tr>\n",
              "  </thead>\n",
              "  <tbody>\n",
              "    <tr>\n",
              "      <th>13</th>\n",
              "      <td>GP75-SN25</td>\n",
              "      <td>1587</td>\n",
              "      <td>1275</td>\n",
              "      <td>452</td>\n",
              "      <td>422</td>\n",
              "      <td>1403</td>\n",
              "      <td>3686</td>\n",
              "      <td>827</td>\n",
              "      <td>38.5</td>\n",
              "      <td>37.4</td>\n",
              "      <td>0.864</td>\n",
              "      <td>2.63</td>\n",
              "    </tr>\n",
              "    <tr>\n",
              "      <th>0</th>\n",
              "      <td>GP 100</td>\n",
              "      <td>587</td>\n",
              "      <td>518</td>\n",
              "      <td>344</td>\n",
              "      <td>260</td>\n",
              "      <td>781</td>\n",
              "      <td>1344</td>\n",
              "      <td>250</td>\n",
              "      <td>40.7</td>\n",
              "      <td>34.2</td>\n",
              "      <td>0.665</td>\n",
              "      <td>1.72</td>\n",
              "    </tr>\n",
              "    <tr>\n",
              "      <th>9</th>\n",
              "      <td>GP75-SN25</td>\n",
              "      <td>599</td>\n",
              "      <td>501</td>\n",
              "      <td>81</td>\n",
              "      <td>224</td>\n",
              "      <td>718</td>\n",
              "      <td>1428</td>\n",
              "      <td>277</td>\n",
              "      <td>40.8</td>\n",
              "      <td>34.8</td>\n",
              "      <td>0.792</td>\n",
              "      <td>1.99</td>\n",
              "    </tr>\n",
              "    <tr>\n",
              "      <th>24</th>\n",
              "      <td>GP25-SN75</td>\n",
              "      <td>1130</td>\n",
              "      <td>828</td>\n",
              "      <td>33</td>\n",
              "      <td>191</td>\n",
              "      <td>669</td>\n",
              "      <td>2622</td>\n",
              "      <td>640</td>\n",
              "      <td>37.1</td>\n",
              "      <td>33.2</td>\n",
              "      <td>1.164</td>\n",
              "      <td>3.92</td>\n",
              "    </tr>\n",
              "    <tr>\n",
              "      <th>26</th>\n",
              "      <td>GP25-SN75</td>\n",
              "      <td>1619</td>\n",
              "      <td>1192</td>\n",
              "      <td>161</td>\n",
              "      <td>200</td>\n",
              "      <td>719</td>\n",
              "      <td>3781</td>\n",
              "      <td>949</td>\n",
              "      <td>36.6</td>\n",
              "      <td>33.8</td>\n",
              "      <td>1.181</td>\n",
              "      <td>5.26</td>\n",
              "    </tr>\n",
              "    <tr>\n",
              "      <th>27</th>\n",
              "      <td>flour 100</td>\n",
              "      <td>580</td>\n",
              "      <td>409</td>\n",
              "      <td>4</td>\n",
              "      <td>202</td>\n",
              "      <td>599</td>\n",
              "      <td>1226</td>\n",
              "      <td>286</td>\n",
              "      <td>37.0</td>\n",
              "      <td>28.2</td>\n",
              "      <td>0.568</td>\n",
              "      <td>2.05</td>\n",
              "    </tr>\n",
              "    <tr>\n",
              "      <th>12</th>\n",
              "      <td>GP75-SN25</td>\n",
              "      <td>1587</td>\n",
              "      <td>1243</td>\n",
              "      <td>318</td>\n",
              "      <td>445</td>\n",
              "      <td>1461</td>\n",
              "      <td>3658</td>\n",
              "      <td>817</td>\n",
              "      <td>38.5</td>\n",
              "      <td>35.7</td>\n",
              "      <td>0.862</td>\n",
              "      <td>2.50</td>\n",
              "    </tr>\n",
              "  </tbody>\n",
              "</table>\n",
              "</div>\n",
              "      <button class=\"colab-df-convert\" onclick=\"convertToInteractive('df-162d622e-155f-43f6-bfa5-3f7b4362647b')\"\n",
              "              title=\"Convert this dataframe to an interactive table.\"\n",
              "              style=\"display:none;\">\n",
              "        \n",
              "  <svg xmlns=\"http://www.w3.org/2000/svg\" height=\"24px\"viewBox=\"0 0 24 24\"\n",
              "       width=\"24px\">\n",
              "    <path d=\"M0 0h24v24H0V0z\" fill=\"none\"/>\n",
              "    <path d=\"M18.56 5.44l.94 2.06.94-2.06 2.06-.94-2.06-.94-.94-2.06-.94 2.06-2.06.94zm-11 1L8.5 8.5l.94-2.06 2.06-.94-2.06-.94L8.5 2.5l-.94 2.06-2.06.94zm10 10l.94 2.06.94-2.06 2.06-.94-2.06-.94-.94-2.06-.94 2.06-2.06.94z\"/><path d=\"M17.41 7.96l-1.37-1.37c-.4-.4-.92-.59-1.43-.59-.52 0-1.04.2-1.43.59L10.3 9.45l-7.72 7.72c-.78.78-.78 2.05 0 2.83L4 21.41c.39.39.9.59 1.41.59.51 0 1.02-.2 1.41-.59l7.78-7.78 2.81-2.81c.8-.78.8-2.07 0-2.86zM5.41 20L4 18.59l7.72-7.72 1.47 1.35L5.41 20z\"/>\n",
              "  </svg>\n",
              "      </button>\n",
              "      \n",
              "  <style>\n",
              "    .colab-df-container {\n",
              "      display:flex;\n",
              "      flex-wrap:wrap;\n",
              "      gap: 12px;\n",
              "    }\n",
              "\n",
              "    .colab-df-convert {\n",
              "      background-color: #E8F0FE;\n",
              "      border: none;\n",
              "      border-radius: 50%;\n",
              "      cursor: pointer;\n",
              "      display: none;\n",
              "      fill: #1967D2;\n",
              "      height: 32px;\n",
              "      padding: 0 0 0 0;\n",
              "      width: 32px;\n",
              "    }\n",
              "\n",
              "    .colab-df-convert:hover {\n",
              "      background-color: #E2EBFA;\n",
              "      box-shadow: 0px 1px 2px rgba(60, 64, 67, 0.3), 0px 1px 3px 1px rgba(60, 64, 67, 0.15);\n",
              "      fill: #174EA6;\n",
              "    }\n",
              "\n",
              "    [theme=dark] .colab-df-convert {\n",
              "      background-color: #3B4455;\n",
              "      fill: #D2E3FC;\n",
              "    }\n",
              "\n",
              "    [theme=dark] .colab-df-convert:hover {\n",
              "      background-color: #434B5C;\n",
              "      box-shadow: 0px 1px 3px 1px rgba(0, 0, 0, 0.15);\n",
              "      filter: drop-shadow(0px 1px 2px rgba(0, 0, 0, 0.3));\n",
              "      fill: #FFFFFF;\n",
              "    }\n",
              "  </style>\n",
              "\n",
              "      <script>\n",
              "        const buttonEl =\n",
              "          document.querySelector('#df-162d622e-155f-43f6-bfa5-3f7b4362647b button.colab-df-convert');\n",
              "        buttonEl.style.display =\n",
              "          google.colab.kernel.accessAllowed ? 'block' : 'none';\n",
              "\n",
              "        async function convertToInteractive(key) {\n",
              "          const element = document.querySelector('#df-162d622e-155f-43f6-bfa5-3f7b4362647b');\n",
              "          const dataTable =\n",
              "            await google.colab.kernel.invokeFunction('convertToInteractive',\n",
              "                                                     [key], {});\n",
              "          if (!dataTable) return;\n",
              "\n",
              "          const docLinkHtml = 'Like what you see? Visit the ' +\n",
              "            '<a target=\"_blank\" href=https://colab.research.google.com/notebooks/data_table.ipynb>data table notebook</a>'\n",
              "            + ' to learn more about interactive tables.';\n",
              "          element.innerHTML = '';\n",
              "          dataTable['output_type'] = 'display_data';\n",
              "          await google.colab.output.renderOutput(dataTable, element);\n",
              "          const docLink = document.createElement('div');\n",
              "          docLink.innerHTML = docLinkHtml;\n",
              "          element.appendChild(docLink);\n",
              "        }\n",
              "      </script>\n",
              "    </div>\n",
              "  </div>\n",
              "  "
            ]
          },
          "metadata": {},
          "execution_count": 4
        }
      ]
    },
    {
      "cell_type": "code",
      "source": [
        "# Check for missing values\n",
        "Dataset.isna().sum()"
      ],
      "metadata": {
        "colab": {
          "base_uri": "https://localhost:8080/"
        },
        "id": "rZPk2r8neEAR",
        "outputId": "9ec388de-8bcc-42a4-ef6c-edf9bd243710"
      },
      "execution_count": 5,
      "outputs": [
        {
          "output_type": "execute_result",
          "data": {
            "text/plain": [
              "Material                    0\n",
              "Normal_stress_Pa            0\n",
              "Shear_stress_Pa             0\n",
              "Tensile_stress_Pa           0\n",
              "Cohesion_Pa                 0\n",
              "UCS_Pa                      0\n",
              "Sigma1_Pa                   0\n",
              "Sigma2_Pa                   0\n",
              "Effective_Angle_Friction    0\n",
              "React_Angle_Friction        0\n",
              "Density_g/cm³               0\n",
              "Flowability                 0\n",
              "dtype: int64"
            ]
          },
          "metadata": {},
          "execution_count": 5
        }
      ]
    },
    {
      "cell_type": "markdown",
      "source": [
        "# Feature Engineering"
      ],
      "metadata": {
        "id": "00tlLoHUevQn"
      }
    },
    {
      "cell_type": "code",
      "source": [
        "# Create a column on the Dataset that qualifies material rheology based on Flowability and cohesion\n",
        "import numpy as np\n",
        "\n",
        "Dataset[\"Rheology\"] = np.where(Dataset['Flowability'] < 3.0, \"Cohesive\", \"Incohesive\")\n",
        "\n",
        "\n",
        "# The slip tendency (T,) of a surface is defined as the ratio of shear stress to normal stress on that surface:\n",
        "Dataset[\"Slip_Tendency\"] = Dataset[\"Shear_stress_Pa\"] / Dataset[\"Normal_stress_Pa\"]\n",
        "\n",
        "Dataset.sample(7)"
      ],
      "metadata": {
        "colab": {
          "base_uri": "https://localhost:8080/",
          "height": 350
        },
        "id": "ox8e-VMpeyvR",
        "outputId": "b5ee76cf-59cf-465e-8b76-d1dcc5266853"
      },
      "execution_count": 6,
      "outputs": [
        {
          "output_type": "execute_result",
          "data": {
            "text/plain": [
              "     Material  Normal_stress_Pa  Shear_stress_Pa  Tensile_stress_Pa  \\\n",
              "31  flour 100              1069              811                152   \n",
              "22  GP25-SN75               636              464                174   \n",
              "29  flour 100              1074              808                293   \n",
              "6      GP 100              1567             1435                499   \n",
              "1      GP 100               586              508                191   \n",
              "4      GP 100              1077             1026                334   \n",
              "32  flour 100              1566             1227                163   \n",
              "\n",
              "    Cohesion_Pa  UCS_Pa  Sigma1_Pa  Sigma2_Pa  Effective_Angle_Friction  \\\n",
              "31          426    1252       2315        492                      38.4   \n",
              "22          139     449       1365        355                      35.5   \n",
              "29          462    1289       2226        482                      37.6   \n",
              "6           445    1588       4070        780                      41.8   \n",
              "1           271     815       1361        243                      41.3   \n",
              "4           307    1127       2918        531                      43.0   \n",
              "32          550    1727       3573        750                      39.3   \n",
              "\n",
              "    React_Angle_Friction  Density_g/cm³  Flowability    Rheology  \\\n",
              "31                  31.4          0.581         1.85    Cohesive   \n",
              "22                  31.4          1.173         3.04  Incohesive   \n",
              "29                  26.9          0.598         1.73    Cohesive   \n",
              "6                   40.5          0.736         2.56    Cohesive   \n",
              "1                   34.2          0.666         1.67    Cohesive   \n",
              "4                   39.8          0.708         2.59    Cohesive   \n",
              "32                  30.0          0.620         2.07    Cohesive   \n",
              "\n",
              "    Slip_Tendency  \n",
              "31       0.758653  \n",
              "22       0.729560  \n",
              "29       0.752328  \n",
              "6        0.915763  \n",
              "1        0.866894  \n",
              "4        0.952646  \n",
              "32       0.783525  "
            ],
            "text/html": [
              "\n",
              "  <div id=\"df-3359eaa1-84c2-46c0-9a8e-65e9dfeee28b\">\n",
              "    <div class=\"colab-df-container\">\n",
              "      <div>\n",
              "<style scoped>\n",
              "    .dataframe tbody tr th:only-of-type {\n",
              "        vertical-align: middle;\n",
              "    }\n",
              "\n",
              "    .dataframe tbody tr th {\n",
              "        vertical-align: top;\n",
              "    }\n",
              "\n",
              "    .dataframe thead th {\n",
              "        text-align: right;\n",
              "    }\n",
              "</style>\n",
              "<table border=\"1\" class=\"dataframe\">\n",
              "  <thead>\n",
              "    <tr style=\"text-align: right;\">\n",
              "      <th></th>\n",
              "      <th>Material</th>\n",
              "      <th>Normal_stress_Pa</th>\n",
              "      <th>Shear_stress_Pa</th>\n",
              "      <th>Tensile_stress_Pa</th>\n",
              "      <th>Cohesion_Pa</th>\n",
              "      <th>UCS_Pa</th>\n",
              "      <th>Sigma1_Pa</th>\n",
              "      <th>Sigma2_Pa</th>\n",
              "      <th>Effective_Angle_Friction</th>\n",
              "      <th>React_Angle_Friction</th>\n",
              "      <th>Density_g/cm³</th>\n",
              "      <th>Flowability</th>\n",
              "      <th>Rheology</th>\n",
              "      <th>Slip_Tendency</th>\n",
              "    </tr>\n",
              "  </thead>\n",
              "  <tbody>\n",
              "    <tr>\n",
              "      <th>31</th>\n",
              "      <td>flour 100</td>\n",
              "      <td>1069</td>\n",
              "      <td>811</td>\n",
              "      <td>152</td>\n",
              "      <td>426</td>\n",
              "      <td>1252</td>\n",
              "      <td>2315</td>\n",
              "      <td>492</td>\n",
              "      <td>38.4</td>\n",
              "      <td>31.4</td>\n",
              "      <td>0.581</td>\n",
              "      <td>1.85</td>\n",
              "      <td>Cohesive</td>\n",
              "      <td>0.758653</td>\n",
              "    </tr>\n",
              "    <tr>\n",
              "      <th>22</th>\n",
              "      <td>GP25-SN75</td>\n",
              "      <td>636</td>\n",
              "      <td>464</td>\n",
              "      <td>174</td>\n",
              "      <td>139</td>\n",
              "      <td>449</td>\n",
              "      <td>1365</td>\n",
              "      <td>355</td>\n",
              "      <td>35.5</td>\n",
              "      <td>31.4</td>\n",
              "      <td>1.173</td>\n",
              "      <td>3.04</td>\n",
              "      <td>Incohesive</td>\n",
              "      <td>0.729560</td>\n",
              "    </tr>\n",
              "    <tr>\n",
              "      <th>29</th>\n",
              "      <td>flour 100</td>\n",
              "      <td>1074</td>\n",
              "      <td>808</td>\n",
              "      <td>293</td>\n",
              "      <td>462</td>\n",
              "      <td>1289</td>\n",
              "      <td>2226</td>\n",
              "      <td>482</td>\n",
              "      <td>37.6</td>\n",
              "      <td>26.9</td>\n",
              "      <td>0.598</td>\n",
              "      <td>1.73</td>\n",
              "      <td>Cohesive</td>\n",
              "      <td>0.752328</td>\n",
              "    </tr>\n",
              "    <tr>\n",
              "      <th>6</th>\n",
              "      <td>GP 100</td>\n",
              "      <td>1567</td>\n",
              "      <td>1435</td>\n",
              "      <td>499</td>\n",
              "      <td>445</td>\n",
              "      <td>1588</td>\n",
              "      <td>4070</td>\n",
              "      <td>780</td>\n",
              "      <td>41.8</td>\n",
              "      <td>40.5</td>\n",
              "      <td>0.736</td>\n",
              "      <td>2.56</td>\n",
              "      <td>Cohesive</td>\n",
              "      <td>0.915763</td>\n",
              "    </tr>\n",
              "    <tr>\n",
              "      <th>1</th>\n",
              "      <td>GP 100</td>\n",
              "      <td>586</td>\n",
              "      <td>508</td>\n",
              "      <td>191</td>\n",
              "      <td>271</td>\n",
              "      <td>815</td>\n",
              "      <td>1361</td>\n",
              "      <td>243</td>\n",
              "      <td>41.3</td>\n",
              "      <td>34.2</td>\n",
              "      <td>0.666</td>\n",
              "      <td>1.67</td>\n",
              "      <td>Cohesive</td>\n",
              "      <td>0.866894</td>\n",
              "    </tr>\n",
              "    <tr>\n",
              "      <th>4</th>\n",
              "      <td>GP 100</td>\n",
              "      <td>1077</td>\n",
              "      <td>1026</td>\n",
              "      <td>334</td>\n",
              "      <td>307</td>\n",
              "      <td>1127</td>\n",
              "      <td>2918</td>\n",
              "      <td>531</td>\n",
              "      <td>43.0</td>\n",
              "      <td>39.8</td>\n",
              "      <td>0.708</td>\n",
              "      <td>2.59</td>\n",
              "      <td>Cohesive</td>\n",
              "      <td>0.952646</td>\n",
              "    </tr>\n",
              "    <tr>\n",
              "      <th>32</th>\n",
              "      <td>flour 100</td>\n",
              "      <td>1566</td>\n",
              "      <td>1227</td>\n",
              "      <td>163</td>\n",
              "      <td>550</td>\n",
              "      <td>1727</td>\n",
              "      <td>3573</td>\n",
              "      <td>750</td>\n",
              "      <td>39.3</td>\n",
              "      <td>30.0</td>\n",
              "      <td>0.620</td>\n",
              "      <td>2.07</td>\n",
              "      <td>Cohesive</td>\n",
              "      <td>0.783525</td>\n",
              "    </tr>\n",
              "  </tbody>\n",
              "</table>\n",
              "</div>\n",
              "      <button class=\"colab-df-convert\" onclick=\"convertToInteractive('df-3359eaa1-84c2-46c0-9a8e-65e9dfeee28b')\"\n",
              "              title=\"Convert this dataframe to an interactive table.\"\n",
              "              style=\"display:none;\">\n",
              "        \n",
              "  <svg xmlns=\"http://www.w3.org/2000/svg\" height=\"24px\"viewBox=\"0 0 24 24\"\n",
              "       width=\"24px\">\n",
              "    <path d=\"M0 0h24v24H0V0z\" fill=\"none\"/>\n",
              "    <path d=\"M18.56 5.44l.94 2.06.94-2.06 2.06-.94-2.06-.94-.94-2.06-.94 2.06-2.06.94zm-11 1L8.5 8.5l.94-2.06 2.06-.94-2.06-.94L8.5 2.5l-.94 2.06-2.06.94zm10 10l.94 2.06.94-2.06 2.06-.94-2.06-.94-.94-2.06-.94 2.06-2.06.94z\"/><path d=\"M17.41 7.96l-1.37-1.37c-.4-.4-.92-.59-1.43-.59-.52 0-1.04.2-1.43.59L10.3 9.45l-7.72 7.72c-.78.78-.78 2.05 0 2.83L4 21.41c.39.39.9.59 1.41.59.51 0 1.02-.2 1.41-.59l7.78-7.78 2.81-2.81c.8-.78.8-2.07 0-2.86zM5.41 20L4 18.59l7.72-7.72 1.47 1.35L5.41 20z\"/>\n",
              "  </svg>\n",
              "      </button>\n",
              "      \n",
              "  <style>\n",
              "    .colab-df-container {\n",
              "      display:flex;\n",
              "      flex-wrap:wrap;\n",
              "      gap: 12px;\n",
              "    }\n",
              "\n",
              "    .colab-df-convert {\n",
              "      background-color: #E8F0FE;\n",
              "      border: none;\n",
              "      border-radius: 50%;\n",
              "      cursor: pointer;\n",
              "      display: none;\n",
              "      fill: #1967D2;\n",
              "      height: 32px;\n",
              "      padding: 0 0 0 0;\n",
              "      width: 32px;\n",
              "    }\n",
              "\n",
              "    .colab-df-convert:hover {\n",
              "      background-color: #E2EBFA;\n",
              "      box-shadow: 0px 1px 2px rgba(60, 64, 67, 0.3), 0px 1px 3px 1px rgba(60, 64, 67, 0.15);\n",
              "      fill: #174EA6;\n",
              "    }\n",
              "\n",
              "    [theme=dark] .colab-df-convert {\n",
              "      background-color: #3B4455;\n",
              "      fill: #D2E3FC;\n",
              "    }\n",
              "\n",
              "    [theme=dark] .colab-df-convert:hover {\n",
              "      background-color: #434B5C;\n",
              "      box-shadow: 0px 1px 3px 1px rgba(0, 0, 0, 0.15);\n",
              "      filter: drop-shadow(0px 1px 2px rgba(0, 0, 0, 0.3));\n",
              "      fill: #FFFFFF;\n",
              "    }\n",
              "  </style>\n",
              "\n",
              "      <script>\n",
              "        const buttonEl =\n",
              "          document.querySelector('#df-3359eaa1-84c2-46c0-9a8e-65e9dfeee28b button.colab-df-convert');\n",
              "        buttonEl.style.display =\n",
              "          google.colab.kernel.accessAllowed ? 'block' : 'none';\n",
              "\n",
              "        async function convertToInteractive(key) {\n",
              "          const element = document.querySelector('#df-3359eaa1-84c2-46c0-9a8e-65e9dfeee28b');\n",
              "          const dataTable =\n",
              "            await google.colab.kernel.invokeFunction('convertToInteractive',\n",
              "                                                     [key], {});\n",
              "          if (!dataTable) return;\n",
              "\n",
              "          const docLinkHtml = 'Like what you see? Visit the ' +\n",
              "            '<a target=\"_blank\" href=https://colab.research.google.com/notebooks/data_table.ipynb>data table notebook</a>'\n",
              "            + ' to learn more about interactive tables.';\n",
              "          element.innerHTML = '';\n",
              "          dataTable['output_type'] = 'display_data';\n",
              "          await google.colab.output.renderOutput(dataTable, element);\n",
              "          const docLink = document.createElement('div');\n",
              "          docLink.innerHTML = docLinkHtml;\n",
              "          element.appendChild(docLink);\n",
              "        }\n",
              "      </script>\n",
              "    </div>\n",
              "  </div>\n",
              "  "
            ]
          },
          "metadata": {},
          "execution_count": 6
        }
      ]
    },
    {
      "cell_type": "code",
      "source": [
        "# Shuffle dataset and create independent variables and target column for training . \n",
        "Shuff =Dataset.sample(frac=1)\n",
        "X = Shuff.drop(['Material',\"Rheology\"], axis = 1)\n",
        "Y = Shuff[\"Rheology\"]"
      ],
      "metadata": {
        "id": "4GO0HsJ1kQj9"
      },
      "execution_count": 7,
      "outputs": []
    },
    {
      "cell_type": "code",
      "source": [
        "# split dataset \n",
        "from sklearn.model_selection import train_test_split\n",
        "\n",
        "x_tr, x_t, y_tr, y_t = train_test_split(X,Y,\n",
        "                                        test_size=0.3, )"
      ],
      "metadata": {
        "id": "JsCP1lgNkR54"
      },
      "execution_count": 8,
      "outputs": []
    },
    {
      "cell_type": "code",
      "source": [
        "x_tr.shape,x_t.shape,y_tr.shape,y_t.shape"
      ],
      "metadata": {
        "colab": {
          "base_uri": "https://localhost:8080/"
        },
        "id": "hlhQvb8HmZbD",
        "outputId": "37ea76b9-8db7-4719-ae30-ed8fc1654f37"
      },
      "execution_count": 9,
      "outputs": [
        {
          "output_type": "execute_result",
          "data": {
            "text/plain": [
              "((24, 12), (11, 12), (24,), (11,))"
            ]
          },
          "metadata": {},
          "execution_count": 9
        }
      ]
    },
    {
      "cell_type": "markdown",
      "source": [
        "## EXPLORATORY DATA ANALYSIS\n",
        "\n",
        "Now that the dataset has been sorted into batches for training and testing. We would like to manipulate and visualize the training dataset for more knowledge discovery from data."
      ],
      "metadata": {
        "id": "NzKrR3vsAvKO"
      }
    },
    {
      "cell_type": "code",
      "source": [
        "## General describption of train_data\n",
        "x_tr.describe()"
      ],
      "metadata": {
        "colab": {
          "base_uri": "https://localhost:8080/",
          "height": 364
        },
        "id": "Z0RMWTdRAvsT",
        "outputId": "e64523f7-8ad6-4aa5-d19d-530ea2181590"
      },
      "execution_count": 10,
      "outputs": [
        {
          "output_type": "execute_result",
          "data": {
            "text/plain": [
              "       Normal_stress_Pa  Shear_stress_Pa  Tensile_stress_Pa  Cohesion_Pa  \\\n",
              "count         24.000000        24.000000          24.000000    24.000000   \n",
              "mean        1074.083333       870.250000         301.166667   317.833333   \n",
              "std          419.653679       329.550056         158.963946   126.343791   \n",
              "min          579.000000       423.000000          31.000000   139.000000   \n",
              "25%          612.000000       526.250000         172.000000   206.750000   \n",
              "50%         1092.500000       894.500000         286.500000   309.000000   \n",
              "75%         1566.000000      1185.750000         438.000000   426.000000   \n",
              "max         1620.000000      1435.000000         546.000000   550.000000   \n",
              "\n",
              "            UCS_Pa    Sigma1_Pa   Sigma2_Pa  Effective_Angle_Friction  \\\n",
              "count    24.000000    24.000000   24.000000                 24.000000   \n",
              "mean   1032.333333  2500.375000  542.958333                 39.158333   \n",
              "std     396.360471   968.025638  228.967717                  2.082832   \n",
              "min     449.000000  1237.000000  243.000000                 35.500000   \n",
              "25%     678.250000  1493.750000  298.500000                 38.025000   \n",
              "50%    1018.500000  2555.000000  543.500000                 38.850000   \n",
              "75%    1405.000000  3438.000000  766.500000                 40.900000   \n",
              "max    1727.000000  4070.000000  953.000000                 42.800000   \n",
              "\n",
              "       React_Angle_Friction  Density_g/cm³  Flowability  Slip_Tendency  \n",
              "count             24.000000      24.000000    24.000000      24.000000  \n",
              "mean              34.254167       0.836917     2.488750       0.817593  \n",
              "std                5.211607       0.194269     0.706186       0.070913  \n",
              "min               20.800000       0.550000     1.670000       0.694764  \n",
              "25%               31.550000       0.664250     2.122500       0.772951  \n",
              "50%               35.350000       0.827500     2.305000       0.816699  \n",
              "75%               37.650000       0.949500     2.592500       0.865008  \n",
              "max               41.500000       1.187000     4.950000       0.940905  "
            ],
            "text/html": [
              "\n",
              "  <div id=\"df-a943ae86-d56e-4e62-b463-058dd0ceeaea\">\n",
              "    <div class=\"colab-df-container\">\n",
              "      <div>\n",
              "<style scoped>\n",
              "    .dataframe tbody tr th:only-of-type {\n",
              "        vertical-align: middle;\n",
              "    }\n",
              "\n",
              "    .dataframe tbody tr th {\n",
              "        vertical-align: top;\n",
              "    }\n",
              "\n",
              "    .dataframe thead th {\n",
              "        text-align: right;\n",
              "    }\n",
              "</style>\n",
              "<table border=\"1\" class=\"dataframe\">\n",
              "  <thead>\n",
              "    <tr style=\"text-align: right;\">\n",
              "      <th></th>\n",
              "      <th>Normal_stress_Pa</th>\n",
              "      <th>Shear_stress_Pa</th>\n",
              "      <th>Tensile_stress_Pa</th>\n",
              "      <th>Cohesion_Pa</th>\n",
              "      <th>UCS_Pa</th>\n",
              "      <th>Sigma1_Pa</th>\n",
              "      <th>Sigma2_Pa</th>\n",
              "      <th>Effective_Angle_Friction</th>\n",
              "      <th>React_Angle_Friction</th>\n",
              "      <th>Density_g/cm³</th>\n",
              "      <th>Flowability</th>\n",
              "      <th>Slip_Tendency</th>\n",
              "    </tr>\n",
              "  </thead>\n",
              "  <tbody>\n",
              "    <tr>\n",
              "      <th>count</th>\n",
              "      <td>24.000000</td>\n",
              "      <td>24.000000</td>\n",
              "      <td>24.000000</td>\n",
              "      <td>24.000000</td>\n",
              "      <td>24.000000</td>\n",
              "      <td>24.000000</td>\n",
              "      <td>24.000000</td>\n",
              "      <td>24.000000</td>\n",
              "      <td>24.000000</td>\n",
              "      <td>24.000000</td>\n",
              "      <td>24.000000</td>\n",
              "      <td>24.000000</td>\n",
              "    </tr>\n",
              "    <tr>\n",
              "      <th>mean</th>\n",
              "      <td>1074.083333</td>\n",
              "      <td>870.250000</td>\n",
              "      <td>301.166667</td>\n",
              "      <td>317.833333</td>\n",
              "      <td>1032.333333</td>\n",
              "      <td>2500.375000</td>\n",
              "      <td>542.958333</td>\n",
              "      <td>39.158333</td>\n",
              "      <td>34.254167</td>\n",
              "      <td>0.836917</td>\n",
              "      <td>2.488750</td>\n",
              "      <td>0.817593</td>\n",
              "    </tr>\n",
              "    <tr>\n",
              "      <th>std</th>\n",
              "      <td>419.653679</td>\n",
              "      <td>329.550056</td>\n",
              "      <td>158.963946</td>\n",
              "      <td>126.343791</td>\n",
              "      <td>396.360471</td>\n",
              "      <td>968.025638</td>\n",
              "      <td>228.967717</td>\n",
              "      <td>2.082832</td>\n",
              "      <td>5.211607</td>\n",
              "      <td>0.194269</td>\n",
              "      <td>0.706186</td>\n",
              "      <td>0.070913</td>\n",
              "    </tr>\n",
              "    <tr>\n",
              "      <th>min</th>\n",
              "      <td>579.000000</td>\n",
              "      <td>423.000000</td>\n",
              "      <td>31.000000</td>\n",
              "      <td>139.000000</td>\n",
              "      <td>449.000000</td>\n",
              "      <td>1237.000000</td>\n",
              "      <td>243.000000</td>\n",
              "      <td>35.500000</td>\n",
              "      <td>20.800000</td>\n",
              "      <td>0.550000</td>\n",
              "      <td>1.670000</td>\n",
              "      <td>0.694764</td>\n",
              "    </tr>\n",
              "    <tr>\n",
              "      <th>25%</th>\n",
              "      <td>612.000000</td>\n",
              "      <td>526.250000</td>\n",
              "      <td>172.000000</td>\n",
              "      <td>206.750000</td>\n",
              "      <td>678.250000</td>\n",
              "      <td>1493.750000</td>\n",
              "      <td>298.500000</td>\n",
              "      <td>38.025000</td>\n",
              "      <td>31.550000</td>\n",
              "      <td>0.664250</td>\n",
              "      <td>2.122500</td>\n",
              "      <td>0.772951</td>\n",
              "    </tr>\n",
              "    <tr>\n",
              "      <th>50%</th>\n",
              "      <td>1092.500000</td>\n",
              "      <td>894.500000</td>\n",
              "      <td>286.500000</td>\n",
              "      <td>309.000000</td>\n",
              "      <td>1018.500000</td>\n",
              "      <td>2555.000000</td>\n",
              "      <td>543.500000</td>\n",
              "      <td>38.850000</td>\n",
              "      <td>35.350000</td>\n",
              "      <td>0.827500</td>\n",
              "      <td>2.305000</td>\n",
              "      <td>0.816699</td>\n",
              "    </tr>\n",
              "    <tr>\n",
              "      <th>75%</th>\n",
              "      <td>1566.000000</td>\n",
              "      <td>1185.750000</td>\n",
              "      <td>438.000000</td>\n",
              "      <td>426.000000</td>\n",
              "      <td>1405.000000</td>\n",
              "      <td>3438.000000</td>\n",
              "      <td>766.500000</td>\n",
              "      <td>40.900000</td>\n",
              "      <td>37.650000</td>\n",
              "      <td>0.949500</td>\n",
              "      <td>2.592500</td>\n",
              "      <td>0.865008</td>\n",
              "    </tr>\n",
              "    <tr>\n",
              "      <th>max</th>\n",
              "      <td>1620.000000</td>\n",
              "      <td>1435.000000</td>\n",
              "      <td>546.000000</td>\n",
              "      <td>550.000000</td>\n",
              "      <td>1727.000000</td>\n",
              "      <td>4070.000000</td>\n",
              "      <td>953.000000</td>\n",
              "      <td>42.800000</td>\n",
              "      <td>41.500000</td>\n",
              "      <td>1.187000</td>\n",
              "      <td>4.950000</td>\n",
              "      <td>0.940905</td>\n",
              "    </tr>\n",
              "  </tbody>\n",
              "</table>\n",
              "</div>\n",
              "      <button class=\"colab-df-convert\" onclick=\"convertToInteractive('df-a943ae86-d56e-4e62-b463-058dd0ceeaea')\"\n",
              "              title=\"Convert this dataframe to an interactive table.\"\n",
              "              style=\"display:none;\">\n",
              "        \n",
              "  <svg xmlns=\"http://www.w3.org/2000/svg\" height=\"24px\"viewBox=\"0 0 24 24\"\n",
              "       width=\"24px\">\n",
              "    <path d=\"M0 0h24v24H0V0z\" fill=\"none\"/>\n",
              "    <path d=\"M18.56 5.44l.94 2.06.94-2.06 2.06-.94-2.06-.94-.94-2.06-.94 2.06-2.06.94zm-11 1L8.5 8.5l.94-2.06 2.06-.94-2.06-.94L8.5 2.5l-.94 2.06-2.06.94zm10 10l.94 2.06.94-2.06 2.06-.94-2.06-.94-.94-2.06-.94 2.06-2.06.94z\"/><path d=\"M17.41 7.96l-1.37-1.37c-.4-.4-.92-.59-1.43-.59-.52 0-1.04.2-1.43.59L10.3 9.45l-7.72 7.72c-.78.78-.78 2.05 0 2.83L4 21.41c.39.39.9.59 1.41.59.51 0 1.02-.2 1.41-.59l7.78-7.78 2.81-2.81c.8-.78.8-2.07 0-2.86zM5.41 20L4 18.59l7.72-7.72 1.47 1.35L5.41 20z\"/>\n",
              "  </svg>\n",
              "      </button>\n",
              "      \n",
              "  <style>\n",
              "    .colab-df-container {\n",
              "      display:flex;\n",
              "      flex-wrap:wrap;\n",
              "      gap: 12px;\n",
              "    }\n",
              "\n",
              "    .colab-df-convert {\n",
              "      background-color: #E8F0FE;\n",
              "      border: none;\n",
              "      border-radius: 50%;\n",
              "      cursor: pointer;\n",
              "      display: none;\n",
              "      fill: #1967D2;\n",
              "      height: 32px;\n",
              "      padding: 0 0 0 0;\n",
              "      width: 32px;\n",
              "    }\n",
              "\n",
              "    .colab-df-convert:hover {\n",
              "      background-color: #E2EBFA;\n",
              "      box-shadow: 0px 1px 2px rgba(60, 64, 67, 0.3), 0px 1px 3px 1px rgba(60, 64, 67, 0.15);\n",
              "      fill: #174EA6;\n",
              "    }\n",
              "\n",
              "    [theme=dark] .colab-df-convert {\n",
              "      background-color: #3B4455;\n",
              "      fill: #D2E3FC;\n",
              "    }\n",
              "\n",
              "    [theme=dark] .colab-df-convert:hover {\n",
              "      background-color: #434B5C;\n",
              "      box-shadow: 0px 1px 3px 1px rgba(0, 0, 0, 0.15);\n",
              "      filter: drop-shadow(0px 1px 2px rgba(0, 0, 0, 0.3));\n",
              "      fill: #FFFFFF;\n",
              "    }\n",
              "  </style>\n",
              "\n",
              "      <script>\n",
              "        const buttonEl =\n",
              "          document.querySelector('#df-a943ae86-d56e-4e62-b463-058dd0ceeaea button.colab-df-convert');\n",
              "        buttonEl.style.display =\n",
              "          google.colab.kernel.accessAllowed ? 'block' : 'none';\n",
              "\n",
              "        async function convertToInteractive(key) {\n",
              "          const element = document.querySelector('#df-a943ae86-d56e-4e62-b463-058dd0ceeaea');\n",
              "          const dataTable =\n",
              "            await google.colab.kernel.invokeFunction('convertToInteractive',\n",
              "                                                     [key], {});\n",
              "          if (!dataTable) return;\n",
              "\n",
              "          const docLinkHtml = 'Like what you see? Visit the ' +\n",
              "            '<a target=\"_blank\" href=https://colab.research.google.com/notebooks/data_table.ipynb>data table notebook</a>'\n",
              "            + ' to learn more about interactive tables.';\n",
              "          element.innerHTML = '';\n",
              "          dataTable['output_type'] = 'display_data';\n",
              "          await google.colab.output.renderOutput(dataTable, element);\n",
              "          const docLink = document.createElement('div');\n",
              "          docLink.innerHTML = docLinkHtml;\n",
              "          element.appendChild(docLink);\n",
              "        }\n",
              "      </script>\n",
              "    </div>\n",
              "  </div>\n",
              "  "
            ]
          },
          "metadata": {},
          "execution_count": 10
        }
      ]
    },
    {
      "cell_type": "markdown",
      "source": [
        "The above table gives an idea on the central tendency of each parameter, likewise individual spreads of each parameter. Their Minimum and Maximum of each parameter range. with a total of 24 training samples."
      ],
      "metadata": {
        "id": "wXsbrkD1cuP6"
      }
    },
    {
      "cell_type": "code",
      "source": [
        "print(\"Number of column in dataset: \", len(x_tr.columns))"
      ],
      "metadata": {
        "colab": {
          "base_uri": "https://localhost:8080/"
        },
        "id": "oJz3AhU0BMj_",
        "outputId": "6a1e0450-28b8-4441-d0de-022e9abc0364"
      },
      "execution_count": 11,
      "outputs": [
        {
          "output_type": "stream",
          "name": "stdout",
          "text": [
            "Number of column in dataset:  12\n"
          ]
        }
      ]
    },
    {
      "cell_type": "code",
      "source": [
        "print(\"Names of Measured and derived parameters in dataset: \", pd.DataFrame(x_tr.columns,))"
      ],
      "metadata": {
        "colab": {
          "base_uri": "https://localhost:8080/"
        },
        "id": "p-68XwU5BeW0",
        "outputId": "e6363b90-4e9e-47f4-cc5e-858d23ada118"
      },
      "execution_count": 12,
      "outputs": [
        {
          "output_type": "stream",
          "name": "stdout",
          "text": [
            "Names of Measured and derived parameters in dataset:                             0\n",
            "0           Normal_stress_Pa\n",
            "1            Shear_stress_Pa\n",
            "2          Tensile_stress_Pa\n",
            "3                Cohesion_Pa\n",
            "4                     UCS_Pa\n",
            "5                  Sigma1_Pa\n",
            "6                  Sigma2_Pa\n",
            "7   Effective_Angle_Friction\n",
            "8       React_Angle_Friction\n",
            "9              Density_g/cm³\n",
            "10               Flowability\n",
            "11             Slip_Tendency\n"
          ]
        }
      ]
    },
    {
      "cell_type": "markdown",
      "source": [
        "**Univariate data analysis**"
      ],
      "metadata": {
        "id": "230ghU-bEQm4"
      }
    },
    {
      "cell_type": "code",
      "source": [
        "# Here we visualize the probability density function of the material flowability. \n",
        "# **GP25_SN75 are more distributed and have more variance in the distribution**\n",
        "\n",
        "sns.histplot(data=Dataset, x ='Flowability', hue=\"Material\", )\n",
        "plt.title(\"Flowability\");"
      ],
      "metadata": {
        "id": "4deTpeXbDwEs",
        "colab": {
          "base_uri": "https://localhost:8080/",
          "height": 294
        },
        "outputId": "e8edeb6a-330c-4ce0-be03-41ba3ca8c019"
      },
      "execution_count": 70,
      "outputs": [
        {
          "output_type": "display_data",
          "data": {
            "text/plain": [
              "<Figure size 432x288 with 1 Axes>"
            ],
            "image/png": "[encoded data removed]"
          },
          "metadata": {}
        }
      ]
    },
    {
      "cell_type": "code",
      "source": [
        "# Frictional angle of the granular material\n"
      ],
      "metadata": {
        "id": "b8PAgrKcE7Rr"
      },
      "execution_count": null,
      "outputs": []
    },
    {
      "cell_type": "code",
      "source": [
        "# Here We visualise the Uniaxial compressive strength of the granular materials. \n",
        "# ??\n",
        "sns.displot(data=Dataset, x= \"UCS_Pa\", hue=\"Material\", multiple=\"fill\")"
      ],
      "metadata": {
        "id": "lMvqImI3Emut",
        "colab": {
          "base_uri": "https://localhost:8080/",
          "height": 388
        },
        "outputId": "9d2e3d4e-ec2e-46d0-e24f-0ddf77f4ff7a"
      },
      "execution_count": 69,
      "outputs": [
        {
          "output_type": "execute_result",
          "data": {
            "text/plain": [
              "<seaborn.axisgrid.FacetGrid at 0x7f0922e1a510>"
            ]
          },
          "metadata": {},
          "execution_count": 69
        },
        {
          "output_type": "display_data",
          "data": {
            "text/plain": [
              "<Figure size 441.43x360 with 1 Axes>"
            ],
            "image/png": "[encoded data removed]"
          },
          "metadata": {}
        }
      ]
    },
    {
      "cell_type": "markdown",
      "source": [
        "**Bivariate data analysis**"
      ],
      "metadata": {
        "id": "y4qixEocDgza"
      }
    },
    {
      "cell_type": "code",
      "source": [
        "# Here were show the shear strength of individual granular materials with increasing stress.\n",
        "sns.lmplot(data=Dataset, x=\"Normal_stress_Pa\", y=\"Shear_stress_Pa\", hue=\"Material\")"
      ],
      "metadata": {
        "id": "djJ_tS5nDwBB",
        "colab": {
          "base_uri": "https://localhost:8080/",
          "height": 388
        },
        "outputId": "a0ae5c2a-3162-4899-93aa-ac0c3b7a6fb2"
      },
      "execution_count": 54,
      "outputs": [
        {
          "output_type": "execute_result",
          "data": {
            "text/plain": [
              "<seaborn.axisgrid.FacetGrid at 0x7f0925788e50>"
            ]
          },
          "metadata": {},
          "execution_count": 54
        },
        {
          "output_type": "display_data",
          "data": {
            "text/plain": [
              "<Figure size 441.43x360 with 1 Axes>"
            ],
            "image/png": "[encoded data removed]"
          },
          "metadata": {}
        }
      ]
    },
    {
      "cell_type": "code",
      "source": [],
      "metadata": {
        "id": "-h_PBD2wB4b2"
      },
      "execution_count": null,
      "outputs": []
    },
    {
      "cell_type": "code",
      "source": [],
      "metadata": {
        "id": "1JsaaukfElVj"
      },
      "execution_count": null,
      "outputs": []
    },
    {
      "cell_type": "code",
      "source": [],
      "metadata": {
        "id": "_gpqs0sAElSn"
      },
      "execution_count": null,
      "outputs": []
    },
    {
      "cell_type": "markdown",
      "source": [
        "**Multivariate data analysis**"
      ],
      "metadata": {
        "id": "8FVuL0dkEewO"
      }
    },
    {
      "cell_type": "code",
      "source": [],
      "metadata": {
        "id": "h_OjWUSPEiZa"
      },
      "execution_count": null,
      "outputs": []
    },
    {
      "cell_type": "code",
      "source": [],
      "metadata": {
        "id": "wRAi8gGmEl_3"
      },
      "execution_count": null,
      "outputs": []
    },
    {
      "cell_type": "code",
      "source": [],
      "metadata": {
        "id": "iczptxhpEl83"
      },
      "execution_count": null,
      "outputs": []
    }
  ]
}